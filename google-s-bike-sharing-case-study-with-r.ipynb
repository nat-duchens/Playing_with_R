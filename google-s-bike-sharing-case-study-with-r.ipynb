{
 "cells": [
  {
   "cell_type": "markdown",
   "id": "1ec34279",
   "metadata": {
    "papermill": {
     "duration": 0.009978,
     "end_time": "2025-04-14T14:06:13.519880",
     "exception": false,
     "start_time": "2025-04-14T14:06:13.509902",
     "status": "completed"
    },
    "tags": []
   },
   "source": [
    "# Case Study: Analysis of Bike-Sharing Trends\n",
    "\n",
    "As a junior data analyst at Cyclistic, a fictional bike-sharing company, my task is to analyze bike usage differences between casual cyclists and annual members. The marketing director sees increasing annual memberships as vital for the company's growth. The insights gathered will inform a marketing strategy designed to convert casual cyclists into annual members.\n",
    "\n",
    "* Data [License Agreement](https://divvybikes.com/data-license-agreement)\n",
    "\n",
    "#### ASK: Define the problem\n",
    "\n",
    "* How do annual members and occasional cyclists differ in their use of Cyclistic bikes?\n",
    "* What is the problem I am trying to solve?\n",
    "\n",
    "To complete the business task *\"Design marketing strategies aimed at converting occasional cyclists into annual members\"*, it is necessary to understand the differences between occasional and annual users. This will help determine why occasional cyclists would purchase a membership and how digital media could affect your marketing tactics. To do this, you need to analyze historical bike trip data, identify the differences between the two types of users (casual and member), and understand what influences users to purchase an annual membership, in order to design appropriate marketing strategies that allow you to make a profit.\n",
    "\n",
    "#### PREPARE: Collect data, store information\n",
    "\n",
    "* Where is your data located?\n",
    "* How is the data organized?\n",
    "\n",
    "The data is located in an HTML file; it contains files organized in ZIP folders, sorted by year and month. Inside the ZIP files are CSV files that contain information about trips made in a given month and year.\n",
    "\n",
    "#### PROCESS: Cleaning the data and checking its integrity\n",
    "\n",
    "* What steps can I take to ensure data integrity?\n",
    "* How can I clean the data and verify a successful cleanup?\n",
    "\n",
    "Documentation for all data cleaning and manipulation can be found in this R Markdown document.\n",
    "\n",
    "#### ANALYZE: Find patterns, relationships and trends, use visualizations \n",
    "\n",
    "#### SHARE: Communication and interpretation of the results\n",
    "\n",
    "#### ACT: Using the insight to solve the problem"
   ]
  },
  {
   "cell_type": "markdown",
   "id": "9208a366",
   "metadata": {
    "papermill": {
     "duration": 0.008889,
     "end_time": "2025-04-14T14:06:13.537897",
     "exception": false,
     "start_time": "2025-04-14T14:06:13.529008",
     "status": "completed"
    },
    "tags": []
   },
   "source": [
    "## Step 1: Install R packages\n",
    "\n",
    "Packages play a crucial role in R, as they contain functions that enable users to perform various tasks. While some packages come pre-installed, many others can be downloaded from external sources like the Comprehensive R Archive Network (CRAN).  \n",
    "\n",
    "The **tidyverse** package is a collection of individual packages designed to simplify a wide range of data analysis tasks.  \n",
    "\n",
    "To install **tidyverse**, run the following code in the code chunk below. "
   ]
  },
  {
   "cell_type": "code",
   "execution_count": 1,
   "id": "bf892143",
   "metadata": {
    "execution": {
     "iopub.execute_input": "2025-04-14T14:06:13.559291Z",
     "iopub.status.busy": "2025-04-14T14:06:13.557303Z",
     "iopub.status.idle": "2025-04-14T14:06:26.639909Z",
     "shell.execute_reply": "2025-04-14T14:06:26.637850Z"
    },
    "papermill": {
     "duration": 13.095919,
     "end_time": "2025-04-14T14:06:26.642663",
     "exception": false,
     "start_time": "2025-04-14T14:06:13.546744",
     "status": "completed"
    },
    "tags": []
   },
   "outputs": [],
   "source": [
    "# System of packages with common philosophy for data analysis\n",
    "install.packages(\"tidyverse\", lib = \"/usr/local/lib/R/site-library\")"
   ]
  },
  {
   "cell_type": "code",
   "execution_count": 2,
   "id": "c2908459",
   "metadata": {
    "execution": {
     "iopub.execute_input": "2025-04-14T14:06:26.704495Z",
     "iopub.status.busy": "2025-04-14T14:06:26.663720Z",
     "iopub.status.idle": "2025-04-14T14:06:27.736531Z",
     "shell.execute_reply": "2025-04-14T14:06:27.734960Z"
    },
    "papermill": {
     "duration": 1.086481,
     "end_time": "2025-04-14T14:06:27.738595",
     "exception": false,
     "start_time": "2025-04-14T14:06:26.652114",
     "status": "completed"
    },
    "tags": []
   },
   "outputs": [
    {
     "name": "stderr",
     "output_type": "stream",
     "text": [
      "── \u001b[1mAttaching core tidyverse packages\u001b[22m ──────────────────────── tidyverse 2.0.0 ──\n",
      "\u001b[32m✔\u001b[39m \u001b[34mdplyr    \u001b[39m 1.1.4     \u001b[32m✔\u001b[39m \u001b[34mreadr    \u001b[39m 2.1.5\n",
      "\u001b[32m✔\u001b[39m \u001b[34mforcats  \u001b[39m 1.0.0     \u001b[32m✔\u001b[39m \u001b[34mstringr  \u001b[39m 1.5.1\n",
      "\u001b[32m✔\u001b[39m \u001b[34mggplot2  \u001b[39m 3.5.1     \u001b[32m✔\u001b[39m \u001b[34mtibble   \u001b[39m 3.2.1\n",
      "\u001b[32m✔\u001b[39m \u001b[34mlubridate\u001b[39m 1.9.3     \u001b[32m✔\u001b[39m \u001b[34mtidyr    \u001b[39m 1.3.1\n",
      "\u001b[32m✔\u001b[39m \u001b[34mpurrr    \u001b[39m 1.0.2     \n"
     ]
    },
    {
     "name": "stderr",
     "output_type": "stream",
     "text": [
      "── \u001b[1mConflicts\u001b[22m ────────────────────────────────────────── tidyverse_conflicts() ──\n",
      "\u001b[31m✖\u001b[39m \u001b[34mdplyr\u001b[39m::\u001b[32mfilter()\u001b[39m masks \u001b[34mstats\u001b[39m::filter()\n",
      "\u001b[31m✖\u001b[39m \u001b[34mdplyr\u001b[39m::\u001b[32mlag()\u001b[39m    masks \u001b[34mstats\u001b[39m::lag()\n",
      "\u001b[36mℹ\u001b[39m Use the conflicted package (\u001b[3m\u001b[34m<http://conflicted.r-lib.org/>\u001b[39m\u001b[23m) to force all conflicts to become errors\n"
     ]
    },
    {
     "name": "stderr",
     "output_type": "stream",
     "text": [
      "\n",
      "Attaching package: ‘hms’\n",
      "\n",
      "\n"
     ]
    },
    {
     "name": "stderr",
     "output_type": "stream",
     "text": [
      "The following object is masked from ‘package:lubridate’:\n",
      "\n",
      "    hms\n",
      "\n",
      "\n"
     ]
    },
    {
     "name": "stderr",
     "output_type": "stream",
     "text": [
      "\n",
      "Attaching package: ‘scales’\n",
      "\n",
      "\n"
     ]
    },
    {
     "name": "stderr",
     "output_type": "stream",
     "text": [
      "The following object is masked from ‘package:purrr’:\n",
      "\n",
      "    discard\n",
      "\n",
      "\n"
     ]
    },
    {
     "name": "stderr",
     "output_type": "stream",
     "text": [
      "The following object is masked from ‘package:readr’:\n",
      "\n",
      "    col_factor\n",
      "\n",
      "\n"
     ]
    }
   ],
   "source": [
    "# Load libraries\n",
    "\n",
    "library(tidyverse) \n",
    "library(purrr) # To work with data collections\n",
    "library(readr) # For importing data\n",
    "library(dplyr) # For data manipulation\n",
    "library(tidyr) # For data cleaning\n",
    "library(lubridate) # To work with dates and times\n",
    "library(geosphere) # For geographic applications\n",
    "library(hms) # For displaying values in the hh:mm:ss format\n",
    "library(scales) # To override the default breaks, labels, and more"
   ]
  },
  {
   "cell_type": "markdown",
   "id": "7f372267",
   "metadata": {
    "papermill": {
     "duration": 0.009552,
     "end_time": "2025-04-14T14:06:27.757589",
     "exception": false,
     "start_time": "2025-04-14T14:06:27.748037",
     "status": "completed"
    },
    "tags": []
   },
   "source": [
    "## Step 2: Download the past 12 months of historical data\n",
    "\n",
    "Use Cyclistic's historical ride data to analyze and identify trends. Download the past 12 months of Cyclistic ride data.\n",
    "\n",
    "* [Historical Data](https://divvy-tripdata.s3.amazonaws.com/index.html) "
   ]
  },
  {
   "cell_type": "code",
   "execution_count": 3,
   "id": "15e77d4f",
   "metadata": {
    "execution": {
     "iopub.execute_input": "2025-04-14T14:06:27.779613Z",
     "iopub.status.busy": "2025-04-14T14:06:27.777741Z",
     "iopub.status.idle": "2025-04-14T14:06:27.797302Z",
     "shell.execute_reply": "2025-04-14T14:06:27.795778Z"
    },
    "papermill": {
     "duration": 0.032519,
     "end_time": "2025-04-14T14:06:27.799394",
     "exception": false,
     "start_time": "2025-04-14T14:06:27.766875",
     "status": "completed"
    },
    "tags": []
   },
   "outputs": [],
   "source": [
    "# Define the date range (last 12 months)\n",
    "\n",
    "last_12_months <- format(seq(as.Date(\"2024-03-01\"), as.Date(\"2025-02-01\"), by = \"month\"), \"%Y%m\")\n",
    "\n",
    "# URL\n",
    "\n",
    "url_base <- \"https://divvy-tripdata.s3.amazonaws.com/\"\n",
    "\n",
    "# Create a list of the files to download (from March 2024 to February 2025)\n",
    "\n",
    "to_download <- paste0(url_base, last_12_months, \"-divvy-tripdata.zip\")\n"
   ]
  },
  {
   "cell_type": "code",
   "execution_count": 4,
   "id": "70288968",
   "metadata": {
    "execution": {
     "iopub.execute_input": "2025-04-14T14:06:27.820843Z",
     "iopub.status.busy": "2025-04-14T14:06:27.819531Z",
     "iopub.status.idle": "2025-04-14T14:07:45.313975Z",
     "shell.execute_reply": "2025-04-14T14:07:45.312197Z"
    },
    "papermill": {
     "duration": 77.508144,
     "end_time": "2025-04-14T14:07:45.316831",
     "exception": false,
     "start_time": "2025-04-14T14:06:27.808687",
     "status": "completed"
    },
    "tags": []
   },
   "outputs": [
    {
     "name": "stderr",
     "output_type": "stream",
     "text": [
      "\u001b[1mRows: \u001b[22m\u001b[34m301687\u001b[39m \u001b[1mColumns: \u001b[22m\u001b[34m13\u001b[39m\n"
     ]
    },
    {
     "name": "stderr",
     "output_type": "stream",
     "text": [
      "\u001b[36m──\u001b[39m \u001b[1mColumn specification\u001b[22m \u001b[36m────────────────────────────────────────────────────────\u001b[39m\n",
      "\u001b[1mDelimiter:\u001b[22m \",\"\n",
      "\u001b[31mchr\u001b[39m  (7): ride_id, rideable_type, start_station_name, start_station_id, end_...\n",
      "\u001b[32mdbl\u001b[39m  (4): start_lat, start_lng, end_lat, end_lng\n",
      "\u001b[34mdttm\u001b[39m (2): started_at, ended_at\n"
     ]
    },
    {
     "name": "stderr",
     "output_type": "stream",
     "text": [
      "\n",
      "\u001b[36mℹ\u001b[39m Use `spec()` to retrieve the full column specification for this data.\n",
      "\u001b[36mℹ\u001b[39m Specify the column types or set `show_col_types = FALSE` to quiet this message.\n"
     ]
    },
    {
     "name": "stderr",
     "output_type": "stream",
     "text": [
      "\u001b[1mRows: \u001b[22m\u001b[34m415025\u001b[39m \u001b[1mColumns: \u001b[22m\u001b[34m13\u001b[39m\n"
     ]
    },
    {
     "name": "stderr",
     "output_type": "stream",
     "text": [
      "\u001b[36m──\u001b[39m \u001b[1mColumn specification\u001b[22m \u001b[36m────────────────────────────────────────────────────────\u001b[39m\n",
      "\u001b[1mDelimiter:\u001b[22m \",\"\n",
      "\u001b[31mchr\u001b[39m  (7): ride_id, rideable_type, start_station_name, start_station_id, end_...\n",
      "\u001b[32mdbl\u001b[39m  (4): start_lat, start_lng, end_lat, end_lng\n",
      "\u001b[34mdttm\u001b[39m (2): started_at, ended_at\n"
     ]
    },
    {
     "name": "stderr",
     "output_type": "stream",
     "text": [
      "\n",
      "\u001b[36mℹ\u001b[39m Use `spec()` to retrieve the full column specification for this data.\n",
      "\u001b[36mℹ\u001b[39m Specify the column types or set `show_col_types = FALSE` to quiet this message.\n"
     ]
    },
    {
     "name": "stderr",
     "output_type": "stream",
     "text": [
      "\u001b[1mRows: \u001b[22m\u001b[34m609493\u001b[39m \u001b[1mColumns: \u001b[22m\u001b[34m13\u001b[39m\n"
     ]
    },
    {
     "name": "stderr",
     "output_type": "stream",
     "text": [
      "\u001b[36m──\u001b[39m \u001b[1mColumn specification\u001b[22m \u001b[36m────────────────────────────────────────────────────────\u001b[39m\n",
      "\u001b[1mDelimiter:\u001b[22m \",\"\n",
      "\u001b[31mchr\u001b[39m  (7): ride_id, rideable_type, start_station_name, start_station_id, end_...\n",
      "\u001b[32mdbl\u001b[39m  (4): start_lat, start_lng, end_lat, end_lng\n",
      "\u001b[34mdttm\u001b[39m (2): started_at, ended_at\n"
     ]
    },
    {
     "name": "stderr",
     "output_type": "stream",
     "text": [
      "\n",
      "\u001b[36mℹ\u001b[39m Use `spec()` to retrieve the full column specification for this data.\n",
      "\u001b[36mℹ\u001b[39m Specify the column types or set `show_col_types = FALSE` to quiet this message.\n"
     ]
    },
    {
     "name": "stderr",
     "output_type": "stream",
     "text": [
      "\u001b[1mRows: \u001b[22m\u001b[34m710721\u001b[39m \u001b[1mColumns: \u001b[22m\u001b[34m13\u001b[39m\n"
     ]
    },
    {
     "name": "stderr",
     "output_type": "stream",
     "text": [
      "\u001b[36m──\u001b[39m \u001b[1mColumn specification\u001b[22m \u001b[36m────────────────────────────────────────────────────────\u001b[39m\n",
      "\u001b[1mDelimiter:\u001b[22m \",\"\n",
      "\u001b[31mchr\u001b[39m  (7): ride_id, rideable_type, start_station_name, start_station_id, end_...\n",
      "\u001b[32mdbl\u001b[39m  (4): start_lat, start_lng, end_lat, end_lng\n",
      "\u001b[34mdttm\u001b[39m (2): started_at, ended_at\n"
     ]
    },
    {
     "name": "stderr",
     "output_type": "stream",
     "text": [
      "\n",
      "\u001b[36mℹ\u001b[39m Use `spec()` to retrieve the full column specification for this data.\n",
      "\u001b[36mℹ\u001b[39m Specify the column types or set `show_col_types = FALSE` to quiet this message.\n"
     ]
    },
    {
     "name": "stderr",
     "output_type": "stream",
     "text": [
      "\u001b[1mRows: \u001b[22m\u001b[34m748962\u001b[39m \u001b[1mColumns: \u001b[22m\u001b[34m13\u001b[39m\n"
     ]
    },
    {
     "name": "stderr",
     "output_type": "stream",
     "text": [
      "\u001b[36m──\u001b[39m \u001b[1mColumn specification\u001b[22m \u001b[36m────────────────────────────────────────────────────────\u001b[39m\n",
      "\u001b[1mDelimiter:\u001b[22m \",\"\n",
      "\u001b[31mchr\u001b[39m  (7): ride_id, rideable_type, start_station_name, start_station_id, end_...\n",
      "\u001b[32mdbl\u001b[39m  (4): start_lat, start_lng, end_lat, end_lng\n",
      "\u001b[34mdttm\u001b[39m (2): started_at, ended_at\n"
     ]
    },
    {
     "name": "stderr",
     "output_type": "stream",
     "text": [
      "\n",
      "\u001b[36mℹ\u001b[39m Use `spec()` to retrieve the full column specification for this data.\n",
      "\u001b[36mℹ\u001b[39m Specify the column types or set `show_col_types = FALSE` to quiet this message.\n"
     ]
    },
    {
     "name": "stderr",
     "output_type": "stream",
     "text": [
      "\u001b[1mRows: \u001b[22m\u001b[34m755639\u001b[39m \u001b[1mColumns: \u001b[22m\u001b[34m13\u001b[39m\n"
     ]
    },
    {
     "name": "stderr",
     "output_type": "stream",
     "text": [
      "\u001b[36m──\u001b[39m \u001b[1mColumn specification\u001b[22m \u001b[36m────────────────────────────────────────────────────────\u001b[39m\n",
      "\u001b[1mDelimiter:\u001b[22m \",\"\n",
      "\u001b[31mchr\u001b[39m  (7): ride_id, rideable_type, start_station_name, start_station_id, end_...\n",
      "\u001b[32mdbl\u001b[39m  (4): start_lat, start_lng, end_lat, end_lng\n",
      "\u001b[34mdttm\u001b[39m (2): started_at, ended_at\n"
     ]
    },
    {
     "name": "stderr",
     "output_type": "stream",
     "text": [
      "\n",
      "\u001b[36mℹ\u001b[39m Use `spec()` to retrieve the full column specification for this data.\n",
      "\u001b[36mℹ\u001b[39m Specify the column types or set `show_col_types = FALSE` to quiet this message.\n"
     ]
    },
    {
     "name": "stderr",
     "output_type": "stream",
     "text": [
      "\u001b[1mRows: \u001b[22m\u001b[34m821276\u001b[39m \u001b[1mColumns: \u001b[22m\u001b[34m13\u001b[39m\n"
     ]
    },
    {
     "name": "stderr",
     "output_type": "stream",
     "text": [
      "\u001b[36m──\u001b[39m \u001b[1mColumn specification\u001b[22m \u001b[36m────────────────────────────────────────────────────────\u001b[39m\n",
      "\u001b[1mDelimiter:\u001b[22m \",\"\n",
      "\u001b[31mchr\u001b[39m  (7): ride_id, rideable_type, start_station_name, start_station_id, end_...\n",
      "\u001b[32mdbl\u001b[39m  (4): start_lat, start_lng, end_lat, end_lng\n",
      "\u001b[34mdttm\u001b[39m (2): started_at, ended_at\n"
     ]
    },
    {
     "name": "stderr",
     "output_type": "stream",
     "text": [
      "\n",
      "\u001b[36mℹ\u001b[39m Use `spec()` to retrieve the full column specification for this data.\n",
      "\u001b[36mℹ\u001b[39m Specify the column types or set `show_col_types = FALSE` to quiet this message.\n"
     ]
    },
    {
     "name": "stderr",
     "output_type": "stream",
     "text": [
      "\u001b[1mRows: \u001b[22m\u001b[34m616281\u001b[39m \u001b[1mColumns: \u001b[22m\u001b[34m13\u001b[39m\n"
     ]
    },
    {
     "name": "stderr",
     "output_type": "stream",
     "text": [
      "\u001b[36m──\u001b[39m \u001b[1mColumn specification\u001b[22m \u001b[36m────────────────────────────────────────────────────────\u001b[39m\n",
      "\u001b[1mDelimiter:\u001b[22m \",\"\n",
      "\u001b[31mchr\u001b[39m  (7): ride_id, rideable_type, start_station_name, start_station_id, end_...\n",
      "\u001b[32mdbl\u001b[39m  (4): start_lat, start_lng, end_lat, end_lng\n",
      "\u001b[34mdttm\u001b[39m (2): started_at, ended_at\n"
     ]
    },
    {
     "name": "stderr",
     "output_type": "stream",
     "text": [
      "\n",
      "\u001b[36mℹ\u001b[39m Use `spec()` to retrieve the full column specification for this data.\n",
      "\u001b[36mℹ\u001b[39m Specify the column types or set `show_col_types = FALSE` to quiet this message.\n"
     ]
    },
    {
     "name": "stderr",
     "output_type": "stream",
     "text": [
      "\u001b[1mRows: \u001b[22m\u001b[34m335075\u001b[39m \u001b[1mColumns: \u001b[22m\u001b[34m13\u001b[39m\n"
     ]
    },
    {
     "name": "stderr",
     "output_type": "stream",
     "text": [
      "\u001b[36m──\u001b[39m \u001b[1mColumn specification\u001b[22m \u001b[36m────────────────────────────────────────────────────────\u001b[39m\n",
      "\u001b[1mDelimiter:\u001b[22m \",\"\n",
      "\u001b[31mchr\u001b[39m  (7): ride_id, rideable_type, start_station_name, start_station_id, end_...\n",
      "\u001b[32mdbl\u001b[39m  (4): start_lat, start_lng, end_lat, end_lng\n",
      "\u001b[34mdttm\u001b[39m (2): started_at, ended_at\n"
     ]
    },
    {
     "name": "stderr",
     "output_type": "stream",
     "text": [
      "\n",
      "\u001b[36mℹ\u001b[39m Use `spec()` to retrieve the full column specification for this data.\n",
      "\u001b[36mℹ\u001b[39m Specify the column types or set `show_col_types = FALSE` to quiet this message.\n"
     ]
    },
    {
     "name": "stderr",
     "output_type": "stream",
     "text": [
      "\u001b[1mRows: \u001b[22m\u001b[34m178372\u001b[39m \u001b[1mColumns: \u001b[22m\u001b[34m13\u001b[39m\n"
     ]
    },
    {
     "name": "stderr",
     "output_type": "stream",
     "text": [
      "\u001b[36m──\u001b[39m \u001b[1mColumn specification\u001b[22m \u001b[36m────────────────────────────────────────────────────────\u001b[39m\n",
      "\u001b[1mDelimiter:\u001b[22m \",\"\n",
      "\u001b[31mchr\u001b[39m  (7): ride_id, rideable_type, start_station_name, start_station_id, end_...\n",
      "\u001b[32mdbl\u001b[39m  (4): start_lat, start_lng, end_lat, end_lng\n",
      "\u001b[34mdttm\u001b[39m (2): started_at, ended_at\n"
     ]
    },
    {
     "name": "stderr",
     "output_type": "stream",
     "text": [
      "\n",
      "\u001b[36mℹ\u001b[39m Use `spec()` to retrieve the full column specification for this data.\n",
      "\u001b[36mℹ\u001b[39m Specify the column types or set `show_col_types = FALSE` to quiet this message.\n"
     ]
    },
    {
     "name": "stderr",
     "output_type": "stream",
     "text": [
      "\u001b[1mRows: \u001b[22m\u001b[34m138689\u001b[39m \u001b[1mColumns: \u001b[22m\u001b[34m13\u001b[39m\n"
     ]
    },
    {
     "name": "stderr",
     "output_type": "stream",
     "text": [
      "\u001b[36m──\u001b[39m \u001b[1mColumn specification\u001b[22m \u001b[36m────────────────────────────────────────────────────────\u001b[39m\n",
      "\u001b[1mDelimiter:\u001b[22m \",\"\n",
      "\u001b[31mchr\u001b[39m  (7): ride_id, rideable_type, start_station_name, start_station_id, end_...\n",
      "\u001b[32mdbl\u001b[39m  (4): start_lat, start_lng, end_lat, end_lng\n",
      "\u001b[34mdttm\u001b[39m (2): started_at, ended_at\n"
     ]
    },
    {
     "name": "stderr",
     "output_type": "stream",
     "text": [
      "\n",
      "\u001b[36mℹ\u001b[39m Use `spec()` to retrieve the full column specification for this data.\n",
      "\u001b[36mℹ\u001b[39m Specify the column types or set `show_col_types = FALSE` to quiet this message.\n"
     ]
    },
    {
     "name": "stderr",
     "output_type": "stream",
     "text": [
      "\u001b[1mRows: \u001b[22m\u001b[34m151880\u001b[39m \u001b[1mColumns: \u001b[22m\u001b[34m13\u001b[39m\n"
     ]
    },
    {
     "name": "stderr",
     "output_type": "stream",
     "text": [
      "\u001b[36m──\u001b[39m \u001b[1mColumn specification\u001b[22m \u001b[36m────────────────────────────────────────────────────────\u001b[39m\n",
      "\u001b[1mDelimiter:\u001b[22m \",\"\n",
      "\u001b[31mchr\u001b[39m  (7): ride_id, rideable_type, start_station_name, start_station_id, end_...\n",
      "\u001b[32mdbl\u001b[39m  (4): start_lat, start_lng, end_lat, end_lng\n",
      "\u001b[34mdttm\u001b[39m (2): started_at, ended_at\n"
     ]
    },
    {
     "name": "stderr",
     "output_type": "stream",
     "text": [
      "\n",
      "\u001b[36mℹ\u001b[39m Use `spec()` to retrieve the full column specification for this data.\n",
      "\u001b[36mℹ\u001b[39m Specify the column types or set `show_col_types = FALSE` to quiet this message.\n"
     ]
    }
   ],
   "source": [
    "# Download files and create a Data frame\n",
    "\n",
    "bicycle_data <- to_download %>%\n",
    "  map_dfr(~{\n",
    "    temporary_file <- tempfile(fileext = \".zip\") # Create temporary ZIP file\n",
    "    download.file(.x, temporary_file, mode = \"wb\")  # Download file using .x as current URL\n",
    "    \n",
    "    temporary_folder <- tempfile() \n",
    "    unzip(temporary_file, exdir = temporary_folder) # Extract CSV from ZIP\n",
    "    \n",
    "    csv_file <- list.files(temporary_folder, full.names = TRUE, pattern = \"*.csv\")\n",
    "    \n",
    "    read_csv(csv_file) # Read CSV\n",
    "  })"
   ]
  },
  {
   "cell_type": "markdown",
   "id": "829f8592",
   "metadata": {
    "papermill": {
     "duration": 0.011437,
     "end_time": "2025-04-14T14:07:45.341983",
     "exception": false,
     "start_time": "2025-04-14T14:07:45.330546",
     "status": "completed"
    },
    "tags": []
   },
   "source": [
    "## Step 3: Check the data\n",
    "\n",
    "Displays a compact and quick view of the data structure, allowing you to see the number of columns and rows, the type of variables, and the first values in each column."
   ]
  },
  {
   "cell_type": "code",
   "execution_count": 5,
   "id": "939476e8",
   "metadata": {
    "execution": {
     "iopub.execute_input": "2025-04-14T14:07:45.368102Z",
     "iopub.status.busy": "2025-04-14T14:07:45.366610Z",
     "iopub.status.idle": "2025-04-14T14:07:45.398562Z",
     "shell.execute_reply": "2025-04-14T14:07:45.396621Z"
    },
    "papermill": {
     "duration": 0.047444,
     "end_time": "2025-04-14T14:07:45.400696",
     "exception": false,
     "start_time": "2025-04-14T14:07:45.353252",
     "status": "completed"
    },
    "tags": []
   },
   "outputs": [
    {
     "name": "stdout",
     "output_type": "stream",
     "text": [
      "Rows: 5,783,100\n",
      "Columns: 13\n",
      "$ ride_id            \u001b[3m\u001b[90m<chr>\u001b[39m\u001b[23m \"64FBE3BAED5F29E6\", \"9991629435C5E20E\", \"E5C9FECD5B…\n",
      "$ rideable_type      \u001b[3m\u001b[90m<chr>\u001b[39m\u001b[23m \"electric_bike\", \"electric_bike\", \"electric_bike\", …\n",
      "$ started_at         \u001b[3m\u001b[90m<dttm>\u001b[39m\u001b[23m 2024-03-05 18:33:11, 2024-03-06 17:15:14, 2024-03-…\n",
      "$ ended_at           \u001b[3m\u001b[90m<dttm>\u001b[39m\u001b[23m 2024-03-05 18:51:48, 2024-03-06 17:16:04, 2024-03-…\n",
      "$ start_station_name \u001b[3m\u001b[90m<chr>\u001b[39m\u001b[23m NA, NA, NA, NA, NA, NA, NA, NA, NA, NA, NA, NA, NA,…\n",
      "$ start_station_id   \u001b[3m\u001b[90m<chr>\u001b[39m\u001b[23m NA, NA, NA, NA, NA, NA, NA, NA, NA, NA, NA, NA, NA,…\n",
      "$ end_station_name   \u001b[3m\u001b[90m<chr>\u001b[39m\u001b[23m NA, NA, NA, NA, NA, NA, NA, NA, NA, NA, NA, NA, NA,…\n",
      "$ end_station_id     \u001b[3m\u001b[90m<chr>\u001b[39m\u001b[23m NA, NA, NA, NA, NA, NA, NA, NA, NA, NA, NA, NA, NA,…\n",
      "$ start_lat          \u001b[3m\u001b[90m<dbl>\u001b[39m\u001b[23m 41.94, 41.91, 41.91, 41.90, 41.93, 41.93, 41.94, 41…\n",
      "$ start_lng          \u001b[3m\u001b[90m<dbl>\u001b[39m\u001b[23m -87.65, -87.64, -87.64, -87.63, -87.70, -87.70, -87…\n",
      "$ end_lat            \u001b[3m\u001b[90m<dbl>\u001b[39m\u001b[23m 41.96, 41.91, 41.92, 41.89, 41.93, 41.95, 41.95, 41…\n",
      "$ end_lng            \u001b[3m\u001b[90m<dbl>\u001b[39m\u001b[23m -87.65, -87.64, -87.64, -87.63, -87.72, -87.68, -87…\n",
      "$ member_casual      \u001b[3m\u001b[90m<chr>\u001b[39m\u001b[23m \"member\", \"member\", \"member\", \"member\", \"member\", \"…\n"
     ]
    }
   ],
   "source": [
    "# Inspect the content \n",
    "\n",
    "glimpse(bicycle_data)"
   ]
  },
  {
   "cell_type": "code",
   "execution_count": 6,
   "id": "bec777ea",
   "metadata": {
    "execution": {
     "iopub.execute_input": "2025-04-14T14:07:45.426643Z",
     "iopub.status.busy": "2025-04-14T14:07:45.425253Z",
     "iopub.status.idle": "2025-04-14T14:07:53.293538Z",
     "shell.execute_reply": "2025-04-14T14:07:53.291907Z"
    },
    "papermill": {
     "duration": 7.883446,
     "end_time": "2025-04-14T14:07:53.295661",
     "exception": false,
     "start_time": "2025-04-14T14:07:45.412215",
     "status": "completed"
    },
    "tags": []
   },
   "outputs": [
    {
     "data": {
      "text/html": [
       "<table class=\"dataframe\">\n",
       "<caption>A tibble: 12 × 1</caption>\n",
       "<thead>\n",
       "\t<tr><th scope=col>month</th></tr>\n",
       "\t<tr><th scope=col>&lt;ord&gt;</th></tr>\n",
       "</thead>\n",
       "<tbody>\n",
       "\t<tr><td>Mar</td></tr>\n",
       "\t<tr><td>Apr</td></tr>\n",
       "\t<tr><td>May</td></tr>\n",
       "\t<tr><td>Jun</td></tr>\n",
       "\t<tr><td>Jul</td></tr>\n",
       "\t<tr><td>Aug</td></tr>\n",
       "\t<tr><td>Sep</td></tr>\n",
       "\t<tr><td>Oct</td></tr>\n",
       "\t<tr><td>Nov</td></tr>\n",
       "\t<tr><td>Dec</td></tr>\n",
       "\t<tr><td>Jan</td></tr>\n",
       "\t<tr><td>Feb</td></tr>\n",
       "</tbody>\n",
       "</table>\n"
      ],
      "text/latex": [
       "A tibble: 12 × 1\n",
       "\\begin{tabular}{l}\n",
       " month\\\\\n",
       " <ord>\\\\\n",
       "\\hline\n",
       "\t Mar\\\\\n",
       "\t Apr\\\\\n",
       "\t May\\\\\n",
       "\t Jun\\\\\n",
       "\t Jul\\\\\n",
       "\t Aug\\\\\n",
       "\t Sep\\\\\n",
       "\t Oct\\\\\n",
       "\t Nov\\\\\n",
       "\t Dec\\\\\n",
       "\t Jan\\\\\n",
       "\t Feb\\\\\n",
       "\\end{tabular}\n"
      ],
      "text/markdown": [
       "\n",
       "A tibble: 12 × 1\n",
       "\n",
       "| month &lt;ord&gt; |\n",
       "|---|\n",
       "| Mar |\n",
       "| Apr |\n",
       "| May |\n",
       "| Jun |\n",
       "| Jul |\n",
       "| Aug |\n",
       "| Sep |\n",
       "| Oct |\n",
       "| Nov |\n",
       "| Dec |\n",
       "| Jan |\n",
       "| Feb |\n",
       "\n"
      ],
      "text/plain": [
       "   month\n",
       "1  Mar  \n",
       "2  Apr  \n",
       "3  May  \n",
       "4  Jun  \n",
       "5  Jul  \n",
       "6  Aug  \n",
       "7  Sep  \n",
       "8  Oct  \n",
       "9  Nov  \n",
       "10 Dec  \n",
       "11 Jan  \n",
       "12 Feb  "
      ]
     },
     "metadata": {},
     "output_type": "display_data"
    }
   ],
   "source": [
    "# To see the 12 months \n",
    "\n",
    "bicycle_data %>%\n",
    "  mutate(month = lubridate::month(started_at, label = TRUE)) %>%\n",
    "  distinct(month)"
   ]
  },
  {
   "cell_type": "markdown",
   "id": "dba9c071",
   "metadata": {
    "papermill": {
     "duration": 0.011575,
     "end_time": "2025-04-14T14:07:53.319080",
     "exception": false,
     "start_time": "2025-04-14T14:07:53.307505",
     "status": "completed"
    },
    "tags": []
   },
   "source": [
    "## Step 4: Cleaning data \n",
    "\n",
    "Identify types of dirty data: \n",
    "\n",
    "* Duplicate\n",
    "* Missing values\n",
    "* Inaccurate or inconsistent data\n",
    "* Misspelling\n",
    "* And more"
   ]
  },
  {
   "cell_type": "code",
   "execution_count": 7,
   "id": "0644d11e",
   "metadata": {
    "execution": {
     "iopub.execute_input": "2025-04-14T14:07:53.345353Z",
     "iopub.status.busy": "2025-04-14T14:07:53.343829Z",
     "iopub.status.idle": "2025-04-14T14:07:54.092262Z",
     "shell.execute_reply": "2025-04-14T14:07:54.090542Z"
    },
    "papermill": {
     "duration": 0.763773,
     "end_time": "2025-04-14T14:07:54.094381",
     "exception": false,
     "start_time": "2025-04-14T14:07:53.330608",
     "status": "completed"
    },
    "tags": []
   },
   "outputs": [
    {
     "data": {
      "text/plain": [
       "\n",
       " casual  member \n",
       "2131942 3651158 "
      ]
     },
     "metadata": {},
     "output_type": "display_data"
    }
   ],
   "source": [
    "table(bicycle_data$member_casual) # There are  2131942 \"casual rides\" and  3651158 \"member rides\" \n"
   ]
  },
  {
   "cell_type": "code",
   "execution_count": 8,
   "id": "8eb03943",
   "metadata": {
    "execution": {
     "iopub.execute_input": "2025-04-14T14:07:54.120996Z",
     "iopub.status.busy": "2025-04-14T14:07:54.119547Z",
     "iopub.status.idle": "2025-04-14T14:10:57.968128Z",
     "shell.execute_reply": "2025-04-14T14:10:57.965489Z"
    },
    "papermill": {
     "duration": 183.883782,
     "end_time": "2025-04-14T14:10:57.989897",
     "exception": false,
     "start_time": "2025-04-14T14:07:54.106115",
     "status": "completed"
    },
    "tags": []
   },
   "outputs": [
    {
     "data": {
      "text/html": [
       "0"
      ],
      "text/latex": [
       "0"
      ],
      "text/markdown": [
       "0"
      ],
      "text/plain": [
       "[1] 0"
      ]
     },
     "metadata": {},
     "output_type": "display_data"
    }
   ],
   "source": [
    "# Check duplicates\n",
    "\n",
    "sum(duplicated(bicycle_data))"
   ]
  },
  {
   "cell_type": "code",
   "execution_count": 9,
   "id": "9e6634fd",
   "metadata": {
    "execution": {
     "iopub.execute_input": "2025-04-14T14:10:58.017397Z",
     "iopub.status.busy": "2025-04-14T14:10:58.015934Z",
     "iopub.status.idle": "2025-04-14T14:10:58.190663Z",
     "shell.execute_reply": "2025-04-14T14:10:58.189023Z"
    },
    "papermill": {
     "duration": 0.19082,
     "end_time": "2025-04-14T14:10:58.192788",
     "exception": false,
     "start_time": "2025-04-14T14:10:58.001968",
     "status": "completed"
    },
    "tags": []
   },
   "outputs": [
    {
     "data": {
      "text/html": [
       "<style>\n",
       ".list-inline {list-style: none; margin:0; padding: 0}\n",
       ".list-inline>li {display: inline-block}\n",
       ".list-inline>li:not(:last-child)::after {content: \"\\00b7\"; padding: 0 .5ex}\n",
       "</style>\n",
       "<ol class=list-inline><li>'electric_bike'</li><li>'classic_bike'</li><li>'electric_scooter'</li></ol>\n"
      ],
      "text/latex": [
       "\\begin{enumerate*}\n",
       "\\item 'electric\\_bike'\n",
       "\\item 'classic\\_bike'\n",
       "\\item 'electric\\_scooter'\n",
       "\\end{enumerate*}\n"
      ],
      "text/markdown": [
       "1. 'electric_bike'\n",
       "2. 'classic_bike'\n",
       "3. 'electric_scooter'\n",
       "\n",
       "\n"
      ],
      "text/plain": [
       "[1] \"electric_bike\"    \"classic_bike\"     \"electric_scooter\""
      ]
     },
     "metadata": {},
     "output_type": "display_data"
    }
   ],
   "source": [
    "# Check for unique values, misspelling \n",
    "\n",
    "unique(bicycle_data$rideable_type)"
   ]
  },
  {
   "cell_type": "code",
   "execution_count": 10,
   "id": "f9d7416c",
   "metadata": {
    "execution": {
     "iopub.execute_input": "2025-04-14T14:10:58.219969Z",
     "iopub.status.busy": "2025-04-14T14:10:58.218539Z",
     "iopub.status.idle": "2025-04-14T14:10:58.390017Z",
     "shell.execute_reply": "2025-04-14T14:10:58.388349Z"
    },
    "papermill": {
     "duration": 0.187364,
     "end_time": "2025-04-14T14:10:58.392231",
     "exception": false,
     "start_time": "2025-04-14T14:10:58.204867",
     "status": "completed"
    },
    "tags": []
   },
   "outputs": [
    {
     "data": {
      "text/html": [
       "<table class=\"dataframe\">\n",
       "<caption>A spec_tbl_df: 3 × 2</caption>\n",
       "<thead>\n",
       "\t<tr><th scope=col>rideable_type</th><th scope=col>n</th></tr>\n",
       "\t<tr><th scope=col>&lt;chr&gt;</th><th scope=col>&lt;int&gt;</th></tr>\n",
       "</thead>\n",
       "<tbody>\n",
       "\t<tr><td>classic_bike    </td><td>2621171</td></tr>\n",
       "\t<tr><td>electric_bike   </td><td>3017592</td></tr>\n",
       "\t<tr><td>electric_scooter</td><td> 144337</td></tr>\n",
       "</tbody>\n",
       "</table>\n"
      ],
      "text/latex": [
       "A spec\\_tbl\\_df: 3 × 2\n",
       "\\begin{tabular}{ll}\n",
       " rideable\\_type & n\\\\\n",
       " <chr> & <int>\\\\\n",
       "\\hline\n",
       "\t classic\\_bike     & 2621171\\\\\n",
       "\t electric\\_bike    & 3017592\\\\\n",
       "\t electric\\_scooter &  144337\\\\\n",
       "\\end{tabular}\n"
      ],
      "text/markdown": [
       "\n",
       "A spec_tbl_df: 3 × 2\n",
       "\n",
       "| rideable_type &lt;chr&gt; | n &lt;int&gt; |\n",
       "|---|---|\n",
       "| classic_bike     | 2621171 |\n",
       "| electric_bike    | 3017592 |\n",
       "| electric_scooter |  144337 |\n",
       "\n"
      ],
      "text/plain": [
       "  rideable_type    n      \n",
       "1 classic_bike     2621171\n",
       "2 electric_bike    3017592\n",
       "3 electric_scooter  144337"
      ]
     },
     "metadata": {},
     "output_type": "display_data"
    }
   ],
   "source": [
    "# Count rideable_type\n",
    "\n",
    "bicycle_data %>%\n",
    "  count(rideable_type)"
   ]
  },
  {
   "cell_type": "code",
   "execution_count": 11,
   "id": "252e8562",
   "metadata": {
    "execution": {
     "iopub.execute_input": "2025-04-14T14:10:58.419596Z",
     "iopub.status.busy": "2025-04-14T14:10:58.418162Z",
     "iopub.status.idle": "2025-04-14T14:11:00.497819Z",
     "shell.execute_reply": "2025-04-14T14:11:00.496050Z"
    },
    "papermill": {
     "duration": 2.095467,
     "end_time": "2025-04-14T14:11:00.499969",
     "exception": false,
     "start_time": "2025-04-14T14:10:58.404502",
     "status": "completed"
    },
    "tags": []
   },
   "outputs": [
    {
     "data": {
      "text/plain": [
       "   start_lat       start_lng         end_lat         end_lng       \n",
       " Min.   :41.64   Min.   :-87.91   Min.   :16.06   Min.   :-144.05  \n",
       " 1st Qu.:41.88   1st Qu.:-87.66   1st Qu.:41.88   1st Qu.: -87.66  \n",
       " Median :41.90   Median :-87.64   Median :41.90   Median : -87.64  \n",
       " Mean   :41.90   Mean   :-87.65   Mean   :41.90   Mean   : -87.65  \n",
       " 3rd Qu.:41.93   3rd Qu.:-87.63   3rd Qu.:41.93   3rd Qu.: -87.63  \n",
       " Max.   :42.07   Max.   :-87.52   Max.   :87.96   Max.   : 152.53  \n",
       "                                  NA's   :6744    NA's   :6744     "
      ]
     },
     "metadata": {},
     "output_type": "display_data"
    }
   ],
   "source": [
    "# Check for inconsistent data across locations\n",
    "\n",
    "summary(bicycle_data[, c(\"start_lat\", \"start_lng\", \"end_lat\", \"end_lng\")])"
   ]
  },
  {
   "cell_type": "code",
   "execution_count": 12,
   "id": "2b73a3cb",
   "metadata": {
    "execution": {
     "iopub.execute_input": "2025-04-14T14:11:00.527618Z",
     "iopub.status.busy": "2025-04-14T14:11:00.526171Z",
     "iopub.status.idle": "2025-04-14T14:11:08.802066Z",
     "shell.execute_reply": "2025-04-14T14:11:08.800513Z"
    },
    "papermill": {
     "duration": 8.29181,
     "end_time": "2025-04-14T14:11:08.804148",
     "exception": false,
     "start_time": "2025-04-14T14:11:00.512338",
     "status": "completed"
    },
    "tags": []
   },
   "outputs": [
    {
     "data": {
      "text/html": [
       "<style>\n",
       ".dl-inline {width: auto; margin:0; padding: 0}\n",
       ".dl-inline>dt, .dl-inline>dd {float: none; width: auto; display: inline-block}\n",
       ".dl-inline>dt::after {content: \":\\0020\"; padding-right: .5ex}\n",
       ".dl-inline>dt:not(:first-of-type) {padding-left: .5ex}\n",
       "</style><dl class=dl-inline><dt>ride_id</dt><dd>0</dd><dt>rideable_type</dt><dd>0</dd><dt>started_at</dt><dd>0</dd><dt>ended_at</dt><dd>0</dd><dt>start_station_name</dt><dd>1080148</dd><dt>start_station_id</dt><dd>1080148</dd><dt>end_station_name</dt><dd>1110075</dd><dt>end_station_id</dt><dd>1110075</dd><dt>start_lat</dt><dd>0</dd><dt>start_lng</dt><dd>0</dd><dt>end_lat</dt><dd>6744</dd><dt>end_lng</dt><dd>6744</dd><dt>member_casual</dt><dd>0</dd></dl>\n"
      ],
      "text/latex": [
       "\\begin{description*}\n",
       "\\item[ride\\textbackslash{}\\_id] 0\n",
       "\\item[rideable\\textbackslash{}\\_type] 0\n",
       "\\item[started\\textbackslash{}\\_at] 0\n",
       "\\item[ended\\textbackslash{}\\_at] 0\n",
       "\\item[start\\textbackslash{}\\_station\\textbackslash{}\\_name] 1080148\n",
       "\\item[start\\textbackslash{}\\_station\\textbackslash{}\\_id] 1080148\n",
       "\\item[end\\textbackslash{}\\_station\\textbackslash{}\\_name] 1110075\n",
       "\\item[end\\textbackslash{}\\_station\\textbackslash{}\\_id] 1110075\n",
       "\\item[start\\textbackslash{}\\_lat] 0\n",
       "\\item[start\\textbackslash{}\\_lng] 0\n",
       "\\item[end\\textbackslash{}\\_lat] 6744\n",
       "\\item[end\\textbackslash{}\\_lng] 6744\n",
       "\\item[member\\textbackslash{}\\_casual] 0\n",
       "\\end{description*}\n"
      ],
      "text/markdown": [
       "ride_id\n",
       ":   0rideable_type\n",
       ":   0started_at\n",
       ":   0ended_at\n",
       ":   0start_station_name\n",
       ":   1080148start_station_id\n",
       ":   1080148end_station_name\n",
       ":   1110075end_station_id\n",
       ":   1110075start_lat\n",
       ":   0start_lng\n",
       ":   0end_lat\n",
       ":   6744end_lng\n",
       ":   6744member_casual\n",
       ":   0\n",
       "\n"
      ],
      "text/plain": [
       "           ride_id      rideable_type         started_at           ended_at \n",
       "                 0                  0                  0                  0 \n",
       "start_station_name   start_station_id   end_station_name     end_station_id \n",
       "           1080148            1080148            1110075            1110075 \n",
       "         start_lat          start_lng            end_lat            end_lng \n",
       "                 0                  0               6744               6744 \n",
       "     member_casual \n",
       "                 0 "
      ]
     },
     "metadata": {},
     "output_type": "display_data"
    }
   ],
   "source": [
    "# Check for missing values\n",
    " \n",
    "colSums(is.na(bicycle_data)) # There are 5,783,100 rows in total"
   ]
  },
  {
   "cell_type": "markdown",
   "id": "f8205dee",
   "metadata": {
    "papermill": {
     "duration": 0.012235,
     "end_time": "2025-04-14T14:11:08.829485",
     "exception": false,
     "start_time": "2025-04-14T14:11:08.817250",
     "status": "completed"
    },
    "tags": []
   },
   "source": [
    "There are 1,080,148 rows with no values, corresponding to electric bicycles, which probably do not have a fixed station.\n",
    "\n",
    "*\"Before deleting rows or modifying data, it is good practice to create a copy of the dataset and then transform it.\"*  "
   ]
  },
  {
   "cell_type": "code",
   "execution_count": 13,
   "id": "f4fbcbd6",
   "metadata": {
    "execution": {
     "iopub.execute_input": "2025-04-14T14:11:08.856690Z",
     "iopub.status.busy": "2025-04-14T14:11:08.855287Z",
     "iopub.status.idle": "2025-04-14T14:11:16.270885Z",
     "shell.execute_reply": "2025-04-14T14:11:16.268981Z"
    },
    "papermill": {
     "duration": 7.431431,
     "end_time": "2025-04-14T14:11:16.272986",
     "exception": false,
     "start_time": "2025-04-14T14:11:08.841555",
     "status": "completed"
    },
    "tags": []
   },
   "outputs": [
    {
     "name": "stdout",
     "output_type": "stream",
     "text": [
      "Rows: 5,783,100\n",
      "Columns: 13\n",
      "$ ride_id            \u001b[3m\u001b[90m<chr>\u001b[39m\u001b[23m \"64FBE3BAED5F29E6\", \"9991629435C5E20E\", \"E5C9FECD5B…\n",
      "$ rideable_type      \u001b[3m\u001b[90m<chr>\u001b[39m\u001b[23m \"electric_bike\", \"electric_bike\", \"electric_bike\", …\n",
      "$ started_at         \u001b[3m\u001b[90m<dttm>\u001b[39m\u001b[23m 2024-03-05 18:33:11, 2024-03-06 17:15:14, 2024-03-…\n",
      "$ ended_at           \u001b[3m\u001b[90m<dttm>\u001b[39m\u001b[23m 2024-03-05 18:51:48, 2024-03-06 17:16:04, 2024-03-…\n",
      "$ start_station_name \u001b[3m\u001b[90m<chr>\u001b[39m\u001b[23m \"No fixed station\", \"No fixed station\", \"No fixed s…\n",
      "$ start_station_id   \u001b[3m\u001b[90m<chr>\u001b[39m\u001b[23m \"No fixed station\", \"No fixed station\", \"No fixed s…\n",
      "$ end_station_name   \u001b[3m\u001b[90m<chr>\u001b[39m\u001b[23m \"No fixed station\", \"No fixed station\", \"No fixed s…\n",
      "$ end_station_id     \u001b[3m\u001b[90m<chr>\u001b[39m\u001b[23m \"No fixed station\", \"No fixed station\", \"No fixed s…\n",
      "$ start_lat          \u001b[3m\u001b[90m<dbl>\u001b[39m\u001b[23m 41.94, 41.91, 41.91, 41.90, 41.93, 41.93, 41.94, 41…\n",
      "$ start_lng          \u001b[3m\u001b[90m<dbl>\u001b[39m\u001b[23m -87.65, -87.64, -87.64, -87.63, -87.70, -87.70, -87…\n",
      "$ end_lat            \u001b[3m\u001b[90m<dbl>\u001b[39m\u001b[23m 41.96, 41.91, 41.92, 41.89, 41.93, 41.95, 41.95, 41…\n",
      "$ end_lng            \u001b[3m\u001b[90m<dbl>\u001b[39m\u001b[23m -87.65, -87.64, -87.64, -87.63, -87.72, -87.68, -87…\n",
      "$ member_casual      \u001b[3m\u001b[90m<chr>\u001b[39m\u001b[23m \"member\", \"member\", \"member\", \"member\", \"member\", \"…\n"
     ]
    }
   ],
   "source": [
    "# Replace the NA values with \"No Fixed Station\",\n",
    "# where the \"ride type\" column corresponds to an electric bike or scooter\n",
    "\n",
    "t_bike_data <- bicycle_data %>%\n",
    "  mutate(\n",
    "    start_station_name = ifelse(rideable_type %in% c(\"electric_bike\", \"electric_scooter\") & is.na(start_station_name),\n",
    "                                \"No fixed station\", start_station_name),\n",
    "    start_station_id = ifelse(rideable_type %in% c(\"electric_bike\", \"electric_scooter\") & is.na(start_station_id),\n",
    "                              \"No fixed station\", start_station_id),\n",
    "    end_station_name = ifelse(rideable_type %in% c(\"electric_bike\", \"electric_scooter\") & is.na(end_station_name),\n",
    "                              \"No fixed station\", end_station_name),\n",
    "    end_station_id = ifelse(rideable_type %in% c(\"electric_bike\", \"electric_scooter\") & is.na(end_station_id),\n",
    "                            \"No fixed station\", end_station_id),\n",
    "    end_lat = replace_na(end_lat, NA_real_),\n",
    "    end_lng = replace_na(end_lng, NA_real_)\n",
    "  )\n",
    "\n",
    "# To see a summary of the data\n",
    "\n",
    "glimpse(t_bike_data)"
   ]
  },
  {
   "cell_type": "markdown",
   "id": "c617ddd5",
   "metadata": {
    "papermill": {
     "duration": 0.012268,
     "end_time": "2025-04-14T14:11:16.297820",
     "exception": false,
     "start_time": "2025-04-14T14:11:16.285552",
     "status": "completed"
    },
    "tags": []
   },
   "source": [
    "Another handy function is summarize(), to generate a wide range\n",
    "of summary statistics of the data."
   ]
  },
  {
   "cell_type": "code",
   "execution_count": 14,
   "id": "7fcec99e",
   "metadata": {
    "execution": {
     "iopub.execute_input": "2025-04-14T14:11:16.352096Z",
     "iopub.status.busy": "2025-04-14T14:11:16.350605Z",
     "iopub.status.idle": "2025-04-14T14:11:21.640913Z",
     "shell.execute_reply": "2025-04-14T14:11:21.639234Z"
    },
    "papermill": {
     "duration": 5.333538,
     "end_time": "2025-04-14T14:11:21.643574",
     "exception": false,
     "start_time": "2025-04-14T14:11:16.310036",
     "status": "completed"
    },
    "tags": []
   },
   "outputs": [
    {
     "data": {
      "text/plain": [
       "   Min. 1st Qu.  Median    Mean 3rd Qu.    Max.    NA's \n",
       "      0     877    1573    2157    2802 5764585    6744 "
      ]
     },
     "metadata": {},
     "output_type": "display_data"
    }
   ],
   "source": [
    "# Add a column with the distance calculated by latitude and longitude\n",
    "\n",
    "library(geosphere)\n",
    "\n",
    "t_bike_data <- t_bike_data %>%\n",
    "  mutate(\n",
    "    distance_meters = distVincentySphere(cbind(start_lng, start_lat), cbind(end_lng, end_lat))\n",
    "  )\n",
    "\n",
    "summary(t_bike_data$distance_meters)"
   ]
  },
  {
   "cell_type": "code",
   "execution_count": 15,
   "id": "f38dc3f7",
   "metadata": {
    "execution": {
     "iopub.execute_input": "2025-04-14T14:11:21.672959Z",
     "iopub.status.busy": "2025-04-14T14:11:21.671478Z",
     "iopub.status.idle": "2025-04-14T14:11:24.288629Z",
     "shell.execute_reply": "2025-04-14T14:11:24.287002Z"
    },
    "papermill": {
     "duration": 2.634352,
     "end_time": "2025-04-14T14:11:24.290820",
     "exception": false,
     "start_time": "2025-04-14T14:11:21.656468",
     "status": "completed"
    },
    "tags": []
   },
   "outputs": [
    {
     "data": {
      "text/html": [
       "<table class=\"dataframe\">\n",
       "<caption>A tibble: 6 × 14</caption>\n",
       "<thead>\n",
       "\t<tr><th scope=col>ride_id</th><th scope=col>rideable_type</th><th scope=col>started_at</th><th scope=col>ended_at</th><th scope=col>start_station_name</th><th scope=col>start_station_id</th><th scope=col>end_station_name</th><th scope=col>end_station_id</th><th scope=col>start_lat</th><th scope=col>start_lng</th><th scope=col>end_lat</th><th scope=col>end_lng</th><th scope=col>member_casual</th><th scope=col>distance_meters</th></tr>\n",
       "\t<tr><th scope=col>&lt;chr&gt;</th><th scope=col>&lt;chr&gt;</th><th scope=col>&lt;dttm&gt;</th><th scope=col>&lt;dttm&gt;</th><th scope=col>&lt;chr&gt;</th><th scope=col>&lt;chr&gt;</th><th scope=col>&lt;chr&gt;</th><th scope=col>&lt;chr&gt;</th><th scope=col>&lt;dbl&gt;</th><th scope=col>&lt;dbl&gt;</th><th scope=col>&lt;dbl&gt;</th><th scope=col>&lt;dbl&gt;</th><th scope=col>&lt;chr&gt;</th><th scope=col>&lt;dbl&gt;</th></tr>\n",
       "</thead>\n",
       "<tbody>\n",
       "\t<tr><td>F800C79DFF7E9180</td><td>electric_bike</td><td>2024-10-23 09:38:43</td><td>2024-10-23 09:52:54</td><td>Stetson Ave &amp; South Water St</td><td><span style=white-space:pre-wrap>TA1308000029    </span></td><td>No fixed station</td><td>No fixed station</td><td>41.88683</td><td>-87.62232</td><td>83.14</td><td> 152.53</td><td>member</td><td>5764585</td></tr>\n",
       "\t<tr><td>62DE8EEB7371193B</td><td>electric_bike</td><td>2024-09-04 18:54:23</td><td>2024-09-04 19:02:39</td><td><span style=white-space:pre-wrap>Clark St &amp; Elm St           </span></td><td><span style=white-space:pre-wrap>TA1307000039    </span></td><td>No fixed station</td><td>No fixed station</td><td>41.90297</td><td>-87.63128</td><td>72.88</td><td><span style=white-space:pre-wrap>   1.72</span></td><td>member</td><td>5582849</td></tr>\n",
       "\t<tr><td>BFB4AA1136202211</td><td>electric_bike</td><td>2024-07-27 17:17:18</td><td>2024-07-27 18:23:12</td><td>No fixed station            </td><td>No fixed station</td><td>No fixed station</td><td>No fixed station</td><td>41.85000</td><td>-87.63000</td><td>87.96</td><td>-144.05</td><td>casual</td><td>5237006</td></tr>\n",
       "\t<tr><td>AC3B1B61AD56FB4D</td><td>electric_bike</td><td>2024-09-17 13:56:29</td><td>2024-09-17 14:10:34</td><td>Milwaukee Ave &amp; Wabansia Ave</td><td><span style=white-space:pre-wrap>13243           </span></td><td>No fixed station</td><td>No fixed station</td><td>41.91262</td><td>-87.68139</td><td>32.53</td><td>-129.71</td><td>casual</td><td>3827761</td></tr>\n",
       "\t<tr><td>B9D700B54FEC231D</td><td>electric_bike</td><td>2024-08-13 13:51:29</td><td>2024-08-13 14:07:09</td><td>Western Ave &amp; Winnebago Ave </td><td><span style=white-space:pre-wrap>13068           </span></td><td>No fixed station</td><td>No fixed station</td><td>41.91552</td><td>-87.68702</td><td>16.06</td><td> -84.82</td><td>casual</td><td>2891286</td></tr>\n",
       "\t<tr><td>A35B93238902E7C3</td><td>electric_bike</td><td>2024-08-23 18:54:38</td><td>2024-08-23 19:04:50</td><td>No fixed station            </td><td>No fixed station</td><td>No fixed station</td><td>No fixed station</td><td>41.90000</td><td>-87.63000</td><td>21.79</td><td> -92.62</td><td>member</td><td>2286733</td></tr>\n",
       "</tbody>\n",
       "</table>\n"
      ],
      "text/latex": [
       "A tibble: 6 × 14\n",
       "\\begin{tabular}{llllllllllllll}\n",
       " ride\\_id & rideable\\_type & started\\_at & ended\\_at & start\\_station\\_name & start\\_station\\_id & end\\_station\\_name & end\\_station\\_id & start\\_lat & start\\_lng & end\\_lat & end\\_lng & member\\_casual & distance\\_meters\\\\\n",
       " <chr> & <chr> & <dttm> & <dttm> & <chr> & <chr> & <chr> & <chr> & <dbl> & <dbl> & <dbl> & <dbl> & <chr> & <dbl>\\\\\n",
       "\\hline\n",
       "\t F800C79DFF7E9180 & electric\\_bike & 2024-10-23 09:38:43 & 2024-10-23 09:52:54 & Stetson Ave \\& South Water St & TA1308000029     & No fixed station & No fixed station & 41.88683 & -87.62232 & 83.14 &  152.53 & member & 5764585\\\\\n",
       "\t 62DE8EEB7371193B & electric\\_bike & 2024-09-04 18:54:23 & 2024-09-04 19:02:39 & Clark St \\& Elm St            & TA1307000039     & No fixed station & No fixed station & 41.90297 & -87.63128 & 72.88 &    1.72 & member & 5582849\\\\\n",
       "\t BFB4AA1136202211 & electric\\_bike & 2024-07-27 17:17:18 & 2024-07-27 18:23:12 & No fixed station             & No fixed station & No fixed station & No fixed station & 41.85000 & -87.63000 & 87.96 & -144.05 & casual & 5237006\\\\\n",
       "\t AC3B1B61AD56FB4D & electric\\_bike & 2024-09-17 13:56:29 & 2024-09-17 14:10:34 & Milwaukee Ave \\& Wabansia Ave & 13243            & No fixed station & No fixed station & 41.91262 & -87.68139 & 32.53 & -129.71 & casual & 3827761\\\\\n",
       "\t B9D700B54FEC231D & electric\\_bike & 2024-08-13 13:51:29 & 2024-08-13 14:07:09 & Western Ave \\& Winnebago Ave  & 13068            & No fixed station & No fixed station & 41.91552 & -87.68702 & 16.06 &  -84.82 & casual & 2891286\\\\\n",
       "\t A35B93238902E7C3 & electric\\_bike & 2024-08-23 18:54:38 & 2024-08-23 19:04:50 & No fixed station             & No fixed station & No fixed station & No fixed station & 41.90000 & -87.63000 & 21.79 &  -92.62 & member & 2286733\\\\\n",
       "\\end{tabular}\n"
      ],
      "text/markdown": [
       "\n",
       "A tibble: 6 × 14\n",
       "\n",
       "| ride_id &lt;chr&gt; | rideable_type &lt;chr&gt; | started_at &lt;dttm&gt; | ended_at &lt;dttm&gt; | start_station_name &lt;chr&gt; | start_station_id &lt;chr&gt; | end_station_name &lt;chr&gt; | end_station_id &lt;chr&gt; | start_lat &lt;dbl&gt; | start_lng &lt;dbl&gt; | end_lat &lt;dbl&gt; | end_lng &lt;dbl&gt; | member_casual &lt;chr&gt; | distance_meters &lt;dbl&gt; |\n",
       "|---|---|---|---|---|---|---|---|---|---|---|---|---|---|\n",
       "| F800C79DFF7E9180 | electric_bike | 2024-10-23 09:38:43 | 2024-10-23 09:52:54 | Stetson Ave &amp; South Water St | TA1308000029     | No fixed station | No fixed station | 41.88683 | -87.62232 | 83.14 |  152.53 | member | 5764585 |\n",
       "| 62DE8EEB7371193B | electric_bike | 2024-09-04 18:54:23 | 2024-09-04 19:02:39 | Clark St &amp; Elm St            | TA1307000039     | No fixed station | No fixed station | 41.90297 | -87.63128 | 72.88 |    1.72 | member | 5582849 |\n",
       "| BFB4AA1136202211 | electric_bike | 2024-07-27 17:17:18 | 2024-07-27 18:23:12 | No fixed station             | No fixed station | No fixed station | No fixed station | 41.85000 | -87.63000 | 87.96 | -144.05 | casual | 5237006 |\n",
       "| AC3B1B61AD56FB4D | electric_bike | 2024-09-17 13:56:29 | 2024-09-17 14:10:34 | Milwaukee Ave &amp; Wabansia Ave | 13243            | No fixed station | No fixed station | 41.91262 | -87.68139 | 32.53 | -129.71 | casual | 3827761 |\n",
       "| B9D700B54FEC231D | electric_bike | 2024-08-13 13:51:29 | 2024-08-13 14:07:09 | Western Ave &amp; Winnebago Ave  | 13068            | No fixed station | No fixed station | 41.91552 | -87.68702 | 16.06 |  -84.82 | casual | 2891286 |\n",
       "| A35B93238902E7C3 | electric_bike | 2024-08-23 18:54:38 | 2024-08-23 19:04:50 | No fixed station             | No fixed station | No fixed station | No fixed station | 41.90000 | -87.63000 | 21.79 |  -92.62 | member | 2286733 |\n",
       "\n"
      ],
      "text/plain": [
       "  ride_id          rideable_type started_at          ended_at           \n",
       "1 F800C79DFF7E9180 electric_bike 2024-10-23 09:38:43 2024-10-23 09:52:54\n",
       "2 62DE8EEB7371193B electric_bike 2024-09-04 18:54:23 2024-09-04 19:02:39\n",
       "3 BFB4AA1136202211 electric_bike 2024-07-27 17:17:18 2024-07-27 18:23:12\n",
       "4 AC3B1B61AD56FB4D electric_bike 2024-09-17 13:56:29 2024-09-17 14:10:34\n",
       "5 B9D700B54FEC231D electric_bike 2024-08-13 13:51:29 2024-08-13 14:07:09\n",
       "6 A35B93238902E7C3 electric_bike 2024-08-23 18:54:38 2024-08-23 19:04:50\n",
       "  start_station_name           start_station_id end_station_name\n",
       "1 Stetson Ave & South Water St TA1308000029     No fixed station\n",
       "2 Clark St & Elm St            TA1307000039     No fixed station\n",
       "3 No fixed station             No fixed station No fixed station\n",
       "4 Milwaukee Ave & Wabansia Ave 13243            No fixed station\n",
       "5 Western Ave & Winnebago Ave  13068            No fixed station\n",
       "6 No fixed station             No fixed station No fixed station\n",
       "  end_station_id   start_lat start_lng end_lat end_lng member_casual\n",
       "1 No fixed station 41.88683  -87.62232 83.14    152.53 member       \n",
       "2 No fixed station 41.90297  -87.63128 72.88      1.72 member       \n",
       "3 No fixed station 41.85000  -87.63000 87.96   -144.05 casual       \n",
       "4 No fixed station 41.91262  -87.68139 32.53   -129.71 casual       \n",
       "5 No fixed station 41.91552  -87.68702 16.06    -84.82 casual       \n",
       "6 No fixed station 41.90000  -87.63000 21.79    -92.62 member       \n",
       "  distance_meters\n",
       "1 5764585        \n",
       "2 5582849        \n",
       "3 5237006        \n",
       "4 3827761        \n",
       "5 2891286        \n",
       "6 2286733        "
      ]
     },
     "metadata": {},
     "output_type": "display_data"
    }
   ],
   "source": [
    "# Check the column distance_meters from greatest to least distance\n",
    "\n",
    "t_bike_data <- t_bike_data %>%\n",
    "  arrange(desc(distance_meters))\n",
    "\n",
    "# To see the first rows \n",
    "\n",
    "head(t_bike_data)"
   ]
  },
  {
   "cell_type": "markdown",
   "id": "f76c6ad7",
   "metadata": {
    "papermill": {
     "duration": 0.012813,
     "end_time": "2025-04-14T14:11:24.316865",
     "exception": false,
     "start_time": "2025-04-14T14:11:24.304052",
     "status": "completed"
    },
    "tags": []
   },
   "source": [
    "To know the **length of each trip** in seconds or in HH:MM:SS format, it is necessary to subtract the “started_at” column from the “ended_at” column."
   ]
  },
  {
   "cell_type": "code",
   "execution_count": 16,
   "id": "35f39c35",
   "metadata": {
    "execution": {
     "iopub.execute_input": "2025-04-14T14:11:24.346202Z",
     "iopub.status.busy": "2025-04-14T14:11:24.344725Z",
     "iopub.status.idle": "2025-04-14T14:11:24.359695Z",
     "shell.execute_reply": "2025-04-14T14:11:24.358178Z"
    },
    "papermill": {
     "duration": 0.031822,
     "end_time": "2025-04-14T14:11:24.361763",
     "exception": false,
     "start_time": "2025-04-14T14:11:24.329941",
     "status": "completed"
    },
    "tags": []
   },
   "outputs": [],
   "source": [
    "# To calculate the length of each ride, define the format\n",
    "\n",
    "t_bike_data <- t_bike_data %>%\n",
    "  mutate(\n",
    "    started_at = as.POSIXct(started_at, format = \"%Y-%m-%d %H:%M:%S\"),\n",
    "    ended_at = as.POSIXct(ended_at, format = \"%Y-%m-%d %H:%M:%S\")\n",
    "  )"
   ]
  },
  {
   "cell_type": "code",
   "execution_count": 17,
   "id": "9e483cea",
   "metadata": {
    "execution": {
     "iopub.execute_input": "2025-04-14T14:11:24.391059Z",
     "iopub.status.busy": "2025-04-14T14:11:24.389582Z",
     "iopub.status.idle": "2025-04-14T14:11:30.651921Z",
     "shell.execute_reply": "2025-04-14T14:11:30.650269Z"
    },
    "papermill": {
     "duration": 6.279545,
     "end_time": "2025-04-14T14:11:30.654233",
     "exception": false,
     "start_time": "2025-04-14T14:11:24.374688",
     "status": "completed"
    },
    "tags": []
   },
   "outputs": [
    {
     "data": {
      "text/plain": [
       "     Min.   1st Qu.    Median      Mean   3rd Qu.      Max. \n",
       "-164899.0     331.0     580.6    1027.0    1032.0   93596.0 "
      ]
     },
     "metadata": {},
     "output_type": "display_data"
    }
   ],
   "source": [
    "# Ride length in seconds\n",
    "\n",
    "t_bike_data <- t_bike_data %>%\n",
    "  mutate(ride_length_secs = as.numeric(difftime(ended_at, started_at, units = \"secs\")))\n",
    "\n",
    "t_bike_data <- t_bike_data %>%\n",
    "  mutate(ride_length_secs = as.numeric(ended_at - started_at))\n",
    "\n",
    "# Order by ride length \n",
    "\n",
    "t_bike_data <- t_bike_data %>%\n",
    "  arrange(desc(ride_length_secs))\n",
    "\n",
    "# Check values\n",
    "\n",
    "summary(t_bike_data$ride_length_secs)\n"
   ]
  },
  {
   "cell_type": "markdown",
   "id": "cdc6d788",
   "metadata": {
    "papermill": {
     "duration": 0.012919,
     "end_time": "2025-04-14T14:11:30.680356",
     "exception": false,
     "start_time": "2025-04-14T14:11:30.667437",
     "status": "completed"
    },
    "tags": []
   },
   "source": [
    "There are some inconsistent values, such as rides with negative results and rides lasting more than 24 hours, which are inaccurate. These outliers need to be removed, as they can affect the analysis. *This will be done in later chunks of code.*"
   ]
  },
  {
   "cell_type": "code",
   "execution_count": 18,
   "id": "7d67fd32",
   "metadata": {
    "execution": {
     "iopub.execute_input": "2025-04-14T14:11:30.716658Z",
     "iopub.status.busy": "2025-04-14T14:11:30.714837Z",
     "iopub.status.idle": "2025-04-14T14:11:31.632357Z",
     "shell.execute_reply": "2025-04-14T14:11:31.630668Z"
    },
    "papermill": {
     "duration": 0.941233,
     "end_time": "2025-04-14T14:11:31.634593",
     "exception": false,
     "start_time": "2025-04-14T14:11:30.693360",
     "status": "completed"
    },
    "tags": []
   },
   "outputs": [
    {
     "data": {
      "text/plain": [
       "   Min. 1st Qu.  Median    Mean 3rd Qu.    Max. \n",
       "    0.0   331.0   580.6  1027.1  1032.0 93596.0 "
      ]
     },
     "metadata": {},
     "output_type": "display_data"
    }
   ],
   "source": [
    "# Filter negative values in ride length\n",
    "\n",
    "t_bike_data <- t_bike_data %>%\n",
    "  filter(ride_length_secs >= 0) \n",
    "\n",
    "summary(t_bike_data$ride_length_secs)"
   ]
  },
  {
   "cell_type": "code",
   "execution_count": 19,
   "id": "71092348",
   "metadata": {
    "execution": {
     "iopub.execute_input": "2025-04-14T14:11:31.664205Z",
     "iopub.status.busy": "2025-04-14T14:11:31.662720Z",
     "iopub.status.idle": "2025-04-14T14:11:31.678039Z",
     "shell.execute_reply": "2025-04-14T14:11:31.676434Z"
    },
    "papermill": {
     "duration": 0.032392,
     "end_time": "2025-04-14T14:11:31.680226",
     "exception": false,
     "start_time": "2025-04-14T14:11:31.647834",
     "status": "completed"
    },
    "tags": []
   },
   "outputs": [],
   "source": [
    "# Convert seconds to HH:MM:SS (Add new column)\n",
    "\n",
    "t_bike_data <- t_bike_data %>%\n",
    "  mutate(\n",
    "    ride_length_hms = hms::as_hms(ride_length_secs)\n",
    "  )"
   ]
  },
  {
   "cell_type": "markdown",
   "id": "6148eaae",
   "metadata": {
    "papermill": {
     "duration": 0.013056,
     "end_time": "2025-04-14T14:11:31.706512",
     "exception": false,
     "start_time": "2025-04-14T14:11:31.693456",
     "status": "completed"
    },
    "tags": []
   },
   "source": [
    "To identify trends in trips per user (member or casual), it is necessary to calculate the day of the week on which each trip began."
   ]
  },
  {
   "cell_type": "code",
   "execution_count": 20,
   "id": "e665fba7",
   "metadata": {
    "execution": {
     "iopub.execute_input": "2025-04-14T14:11:31.736914Z",
     "iopub.status.busy": "2025-04-14T14:11:31.735463Z",
     "iopub.status.idle": "2025-04-14T14:11:38.148821Z",
     "shell.execute_reply": "2025-04-14T14:11:38.147116Z"
    },
    "papermill": {
     "duration": 6.432245,
     "end_time": "2025-04-14T14:11:38.152023",
     "exception": false,
     "start_time": "2025-04-14T14:11:31.719778",
     "status": "completed"
    },
    "tags": []
   },
   "outputs": [],
   "source": [
    "# Calculates the day of the week on which each ride began\n",
    "# 1 = Sunday, 7 = Saturday\n",
    "\n",
    "t_bike_data <- t_bike_data %>%\n",
    "  mutate(\n",
    "    day_of_week = as.numeric(format(started_at, \"%u\")) %% 7 + 1\n",
    "  )"
   ]
  },
  {
   "cell_type": "code",
   "execution_count": 21,
   "id": "944f9846",
   "metadata": {
    "execution": {
     "iopub.execute_input": "2025-04-14T14:11:38.181807Z",
     "iopub.status.busy": "2025-04-14T14:11:38.180271Z",
     "iopub.status.idle": "2025-04-14T14:11:38.557483Z",
     "shell.execute_reply": "2025-04-14T14:11:38.555145Z"
    },
    "papermill": {
     "duration": 0.394859,
     "end_time": "2025-04-14T14:11:38.560170",
     "exception": false,
     "start_time": "2025-04-14T14:11:38.165311",
     "status": "completed"
    },
    "tags": []
   },
   "outputs": [
    {
     "data": {
      "text/html": [
       "<style>\n",
       ".dl-inline {width: auto; margin:0; padding: 0}\n",
       ".dl-inline>dt, .dl-inline>dd {float: none; width: auto; display: inline-block}\n",
       ".dl-inline>dt::after {content: \":\\0020\"; padding-right: .5ex}\n",
       ".dl-inline>dt:not(:first-of-type) {padding-left: .5ex}\n",
       "</style><dl class=dl-inline><dt>ride_id</dt><dd>0</dd><dt>rideable_type</dt><dd>0</dd><dt>started_at</dt><dd>0</dd><dt>ended_at</dt><dd>0</dd><dt>start_station_name</dt><dd>0</dd><dt>start_station_id</dt><dd>0</dd><dt>end_station_name</dt><dd>6946</dd><dt>end_station_id</dt><dd>6946</dd><dt>start_lat</dt><dd>0</dd><dt>start_lng</dt><dd>0</dd><dt>end_lat</dt><dd>6744</dd><dt>end_lng</dt><dd>6744</dd><dt>member_casual</dt><dd>0</dd><dt>distance_meters</dt><dd>6744</dd><dt>ride_length_secs</dt><dd>0</dd><dt>ride_length_hms</dt><dd>0</dd><dt>day_of_week</dt><dd>0</dd></dl>\n"
      ],
      "text/latex": [
       "\\begin{description*}\n",
       "\\item[ride\\textbackslash{}\\_id] 0\n",
       "\\item[rideable\\textbackslash{}\\_type] 0\n",
       "\\item[started\\textbackslash{}\\_at] 0\n",
       "\\item[ended\\textbackslash{}\\_at] 0\n",
       "\\item[start\\textbackslash{}\\_station\\textbackslash{}\\_name] 0\n",
       "\\item[start\\textbackslash{}\\_station\\textbackslash{}\\_id] 0\n",
       "\\item[end\\textbackslash{}\\_station\\textbackslash{}\\_name] 6946\n",
       "\\item[end\\textbackslash{}\\_station\\textbackslash{}\\_id] 6946\n",
       "\\item[start\\textbackslash{}\\_lat] 0\n",
       "\\item[start\\textbackslash{}\\_lng] 0\n",
       "\\item[end\\textbackslash{}\\_lat] 6744\n",
       "\\item[end\\textbackslash{}\\_lng] 6744\n",
       "\\item[member\\textbackslash{}\\_casual] 0\n",
       "\\item[distance\\textbackslash{}\\_meters] 6744\n",
       "\\item[ride\\textbackslash{}\\_length\\textbackslash{}\\_secs] 0\n",
       "\\item[ride\\textbackslash{}\\_length\\textbackslash{}\\_hms] 0\n",
       "\\item[day\\textbackslash{}\\_of\\textbackslash{}\\_week] 0\n",
       "\\end{description*}\n"
      ],
      "text/markdown": [
       "ride_id\n",
       ":   0rideable_type\n",
       ":   0started_at\n",
       ":   0ended_at\n",
       ":   0start_station_name\n",
       ":   0start_station_id\n",
       ":   0end_station_name\n",
       ":   6946end_station_id\n",
       ":   6946start_lat\n",
       ":   0start_lng\n",
       ":   0end_lat\n",
       ":   6744end_lng\n",
       ":   6744member_casual\n",
       ":   0distance_meters\n",
       ":   6744ride_length_secs\n",
       ":   0ride_length_hms\n",
       ":   0day_of_week\n",
       ":   0\n",
       "\n"
      ],
      "text/plain": [
       "           ride_id      rideable_type         started_at           ended_at \n",
       "                 0                  0                  0                  0 \n",
       "start_station_name   start_station_id   end_station_name     end_station_id \n",
       "                 0                  0               6946               6946 \n",
       "         start_lat          start_lng            end_lat            end_lng \n",
       "                 0                  0               6744               6744 \n",
       "     member_casual    distance_meters   ride_length_secs    ride_length_hms \n",
       "                 0               6744                  0                  0 \n",
       "       day_of_week \n",
       "                 0 "
      ]
     },
     "metadata": {},
     "output_type": "display_data"
    }
   ],
   "source": [
    "# Check for missing values in the transform data set\n",
    "\n",
    "colSums(is.na(t_bike_data)) # Some missing values at the end of some rides\n"
   ]
  },
  {
   "cell_type": "markdown",
   "id": "9d402969",
   "metadata": {
    "papermill": {
     "duration": 0.01335,
     "end_time": "2025-04-14T14:11:38.587060",
     "exception": false,
     "start_time": "2025-04-14T14:11:38.573710",
     "status": "completed"
    },
    "tags": []
   },
   "source": [
    "There are missing values in the *\"end_lat\"* and *\"end_lng\"* columns. This could indicate that some rides didn't complete on schedule, possibly due to a GPS issue. For now, rides with missing *\"end_lat\"* and *\"end_lng\"* values will be saved in a separate table."
   ]
  },
  {
   "cell_type": "code",
   "execution_count": 22,
   "id": "89f07b23",
   "metadata": {
    "execution": {
     "iopub.execute_input": "2025-04-14T14:11:38.617720Z",
     "iopub.status.busy": "2025-04-14T14:11:38.616193Z",
     "iopub.status.idle": "2025-04-14T14:11:39.975918Z",
     "shell.execute_reply": "2025-04-14T14:11:39.974168Z"
    },
    "papermill": {
     "duration": 1.378511,
     "end_time": "2025-04-14T14:11:39.978830",
     "exception": false,
     "start_time": "2025-04-14T14:11:38.600319",
     "status": "completed"
    },
    "tags": []
   },
   "outputs": [],
   "source": [
    "# Add new column: incomplete_rides\n",
    "\n",
    "t_bike_data <- t_bike_data %>%\n",
    "  mutate(incomplete_ride = ifelse(is.na(end_lat) | is.na(end_lng), \"Yes\", \"No\"))\n"
   ]
  },
  {
   "cell_type": "code",
   "execution_count": 23,
   "id": "4c5020a8",
   "metadata": {
    "execution": {
     "iopub.execute_input": "2025-04-14T14:11:40.008497Z",
     "iopub.status.busy": "2025-04-14T14:11:40.007062Z",
     "iopub.status.idle": "2025-04-14T14:11:45.099179Z",
     "shell.execute_reply": "2025-04-14T14:11:45.097535Z"
    },
    "papermill": {
     "duration": 5.10924,
     "end_time": "2025-04-14T14:11:45.101437",
     "exception": false,
     "start_time": "2025-04-14T14:11:39.992197",
     "status": "completed"
    },
    "tags": []
   },
   "outputs": [
    {
     "data": {
      "text/html": [
       "<style>\n",
       ".dl-inline {width: auto; margin:0; padding: 0}\n",
       ".dl-inline>dt, .dl-inline>dd {float: none; width: auto; display: inline-block}\n",
       ".dl-inline>dt::after {content: \":\\0020\"; padding-right: .5ex}\n",
       ".dl-inline>dt:not(:first-of-type) {padding-left: .5ex}\n",
       "</style><dl class=dl-inline><dt>ride_id</dt><dd>0</dd><dt>rideable_type</dt><dd>0</dd><dt>started_at</dt><dd>0</dd><dt>ended_at</dt><dd>0</dd><dt>start_station_name</dt><dd>0</dd><dt>start_station_id</dt><dd>0</dd><dt>end_station_name</dt><dd>202</dd><dt>end_station_id</dt><dd>202</dd><dt>start_lat</dt><dd>0</dd><dt>start_lng</dt><dd>0</dd><dt>end_lat</dt><dd>0</dd><dt>end_lng</dt><dd>0</dd><dt>member_casual</dt><dd>0</dd><dt>distance_meters</dt><dd>0</dd><dt>ride_length_secs</dt><dd>0</dd><dt>ride_length_hms</dt><dd>0</dd><dt>day_of_week</dt><dd>0</dd><dt>incomplete_ride</dt><dd>0</dd></dl>\n"
      ],
      "text/latex": [
       "\\begin{description*}\n",
       "\\item[ride\\textbackslash{}\\_id] 0\n",
       "\\item[rideable\\textbackslash{}\\_type] 0\n",
       "\\item[started\\textbackslash{}\\_at] 0\n",
       "\\item[ended\\textbackslash{}\\_at] 0\n",
       "\\item[start\\textbackslash{}\\_station\\textbackslash{}\\_name] 0\n",
       "\\item[start\\textbackslash{}\\_station\\textbackslash{}\\_id] 0\n",
       "\\item[end\\textbackslash{}\\_station\\textbackslash{}\\_name] 202\n",
       "\\item[end\\textbackslash{}\\_station\\textbackslash{}\\_id] 202\n",
       "\\item[start\\textbackslash{}\\_lat] 0\n",
       "\\item[start\\textbackslash{}\\_lng] 0\n",
       "\\item[end\\textbackslash{}\\_lat] 0\n",
       "\\item[end\\textbackslash{}\\_lng] 0\n",
       "\\item[member\\textbackslash{}\\_casual] 0\n",
       "\\item[distance\\textbackslash{}\\_meters] 0\n",
       "\\item[ride\\textbackslash{}\\_length\\textbackslash{}\\_secs] 0\n",
       "\\item[ride\\textbackslash{}\\_length\\textbackslash{}\\_hms] 0\n",
       "\\item[day\\textbackslash{}\\_of\\textbackslash{}\\_week] 0\n",
       "\\item[incomplete\\textbackslash{}\\_ride] 0\n",
       "\\end{description*}\n"
      ],
      "text/markdown": [
       "ride_id\n",
       ":   0rideable_type\n",
       ":   0started_at\n",
       ":   0ended_at\n",
       ":   0start_station_name\n",
       ":   0start_station_id\n",
       ":   0end_station_name\n",
       ":   202end_station_id\n",
       ":   202start_lat\n",
       ":   0start_lng\n",
       ":   0end_lat\n",
       ":   0end_lng\n",
       ":   0member_casual\n",
       ":   0distance_meters\n",
       ":   0ride_length_secs\n",
       ":   0ride_length_hms\n",
       ":   0day_of_week\n",
       ":   0incomplete_ride\n",
       ":   0\n",
       "\n"
      ],
      "text/plain": [
       "           ride_id      rideable_type         started_at           ended_at \n",
       "                 0                  0                  0                  0 \n",
       "start_station_name   start_station_id   end_station_name     end_station_id \n",
       "                 0                  0                202                202 \n",
       "         start_lat          start_lng            end_lat            end_lng \n",
       "                 0                  0                  0                  0 \n",
       "     member_casual    distance_meters   ride_length_secs    ride_length_hms \n",
       "                 0                  0                  0                  0 \n",
       "       day_of_week    incomplete_ride \n",
       "                 0                  0 "
      ]
     },
     "metadata": {},
     "output_type": "display_data"
    }
   ],
   "source": [
    "# Filter by completes rides, create a new table with the \"complete rides\" \n",
    "\n",
    "complete_rides <- t_bike_data %>%\n",
    "  filter(incomplete_ride == \"No\")\n",
    "\n",
    "# Create a table with the \"incomplete rides\"\n",
    "\n",
    "incomplete_rides <- t_bike_data %>% filter(incomplete_ride == \"Yes\")\n",
    "\n",
    "# Check missing values in the new table \"completes_rides\"\n",
    "\n",
    "colSums(is.na(complete_rides))"
   ]
  },
  {
   "cell_type": "markdown",
   "id": "980134ba",
   "metadata": {
    "papermill": {
     "duration": 0.013202,
     "end_time": "2025-04-14T14:11:45.128299",
     "exception": false,
     "start_time": "2025-04-14T14:11:45.115097",
     "status": "completed"
    },
    "tags": []
   },
   "source": [
    "There are still some rows with missing values, as there are few, they will be deleted."
   ]
  },
  {
   "cell_type": "code",
   "execution_count": 24,
   "id": "3e3fda96",
   "metadata": {
    "execution": {
     "iopub.execute_input": "2025-04-14T14:11:45.158378Z",
     "iopub.status.busy": "2025-04-14T14:11:45.156871Z",
     "iopub.status.idle": "2025-04-14T14:11:50.644706Z",
     "shell.execute_reply": "2025-04-14T14:11:50.642957Z"
    },
    "papermill": {
     "duration": 5.505404,
     "end_time": "2025-04-14T14:11:50.647154",
     "exception": false,
     "start_time": "2025-04-14T14:11:45.141750",
     "status": "completed"
    },
    "tags": []
   },
   "outputs": [],
   "source": [
    "# Delete rows with missing values in the \"complete_rides\"  \n",
    "\n",
    "complete_rides <- complete_rides %>%\n",
    "  filter(!is.na(end_station_name) & !is.na(end_station_id))\n",
    "\n",
    "complete_rides_clean <- complete_rides %>%\n",
    "  filter(!(distance_meters == 0 & ride_length_secs == 0))"
   ]
  },
  {
   "cell_type": "markdown",
   "id": "bc1b89a4",
   "metadata": {
    "papermill": {
     "duration": 0.013542,
     "end_time": "2025-04-14T14:11:50.674976",
     "exception": false,
     "start_time": "2025-04-14T14:11:50.661434",
     "status": "completed"
    },
    "tags": []
   },
   "source": [
    "Since two tables have been created, one with completed trips and one with incomplete trips, which refer to trip completion values, the *\"incomplete_ride\"* column with yes or no values is no longer needed."
   ]
  },
  {
   "cell_type": "code",
   "execution_count": 25,
   "id": "aca3edb2",
   "metadata": {
    "execution": {
     "iopub.execute_input": "2025-04-14T14:11:50.709654Z",
     "iopub.status.busy": "2025-04-14T14:11:50.707200Z",
     "iopub.status.idle": "2025-04-14T14:11:50.735646Z",
     "shell.execute_reply": "2025-04-14T14:11:50.733402Z"
    },
    "papermill": {
     "duration": 0.050507,
     "end_time": "2025-04-14T14:11:50.738885",
     "exception": false,
     "start_time": "2025-04-14T14:11:50.688378",
     "status": "completed"
    },
    "tags": []
   },
   "outputs": [],
   "source": [
    "# Delete the column incomplete_ride in both tables\n",
    "\n",
    "complete_rides_clean <- complete_rides_clean %>%\n",
    "  select(-incomplete_ride)\n",
    "\n",
    "incomplete_rides <- incomplete_rides %>%\n",
    "  select(-incomplete_ride)"
   ]
  },
  {
   "cell_type": "code",
   "execution_count": 26,
   "id": "487facb2",
   "metadata": {
    "execution": {
     "iopub.execute_input": "2025-04-14T14:11:50.777209Z",
     "iopub.status.busy": "2025-04-14T14:11:50.775367Z",
     "iopub.status.idle": "2025-04-14T14:11:51.310776Z",
     "shell.execute_reply": "2025-04-14T14:11:51.309106Z"
    },
    "papermill": {
     "duration": 0.558748,
     "end_time": "2025-04-14T14:11:51.313656",
     "exception": false,
     "start_time": "2025-04-14T14:11:50.754908",
     "status": "completed"
    },
    "tags": []
   },
   "outputs": [
    {
     "data": {
      "text/plain": [
       " ride_length_secs  distance_meters  \n",
       " Min.   :    0.0   Min.   :      0  \n",
       " 1st Qu.:  330.8   1st Qu.:    877  \n",
       " Median :  580.0   Median :   1573  \n",
       " Mean   :  920.5   Mean   :   2157  \n",
       " 3rd Qu.: 1029.3   3rd Qu.:   2802  \n",
       " Max.   :90562.0   Max.   :5764585  "
      ]
     },
     "metadata": {},
     "output_type": "display_data"
    }
   ],
   "source": [
    "# Clean the data by quartiles and interquartile range (IQR)\n",
    "\n",
    "summary(complete_rides_clean[, c(\"ride_length_secs\", \"distance_meters\")])\n",
    "\n",
    "Q1 <- quantile(complete_rides_clean$ride_length_secs, 0.25)\n",
    "Q3 <- quantile(complete_rides_clean$ride_length_secs, 0.75)\n",
    "IQR <- Q3 - Q1\n",
    "\n",
    "# Define limits\n",
    "\n",
    "lower_limit <- Q1 - 1.5 * IQR\n",
    "upper_limit <- Q3 + 1.5 * IQR"
   ]
  },
  {
   "cell_type": "code",
   "execution_count": 27,
   "id": "856bd6bb",
   "metadata": {
    "execution": {
     "iopub.execute_input": "2025-04-14T14:11:51.344012Z",
     "iopub.status.busy": "2025-04-14T14:11:51.342610Z",
     "iopub.status.idle": "2025-04-14T14:11:52.708498Z",
     "shell.execute_reply": "2025-04-14T14:11:52.706859Z"
    },
    "papermill": {
     "duration": 1.383241,
     "end_time": "2025-04-14T14:11:52.710678",
     "exception": false,
     "start_time": "2025-04-14T14:11:51.327437",
     "status": "completed"
    },
    "tags": []
   },
   "outputs": [
    {
     "data": {
      "text/plain": [
       "   Min. 1st Qu.  Median    Mean 3rd Qu.    Max. \n",
       "    0.0   314.6   536.4   654.0   889.5  2077.1 "
      ]
     },
     "metadata": {},
     "output_type": "display_data"
    }
   ],
   "source": [
    "# Delete outliers or inaccurate data \n",
    "\n",
    "complete_rides_clean <- complete_rides_clean %>%\n",
    "  filter(ride_length_secs >= lower_limit & ride_length_secs <= upper_limit)\n",
    "\n",
    "# Verify cleansing\n",
    "\n",
    "summary(complete_rides_clean$ride_length_secs)"
   ]
  },
  {
   "cell_type": "markdown",
   "id": "41778283",
   "metadata": {
    "papermill": {
     "duration": 0.013498,
     "end_time": "2025-04-14T14:11:52.738222",
     "exception": false,
     "start_time": "2025-04-14T14:11:52.724724",
     "status": "completed"
    },
    "tags": []
   },
   "source": [
    "## Summary of the cleansing:\n",
    "\n",
    "The dataset was sorted, filtered, and cleaned. Incorrect data, including missing values, were identified and filled with a message, while others were removed. Inaccurate or inconsistent data were considered outliers in terms of travel time and distance and were therefore removed.\n",
    "\n",
    "Furthermore, *the filtered data was divided into two tables*, one with complete routes and another with incomplete routes with respect to the final latitude and final longitude columns."
   ]
  },
  {
   "cell_type": "markdown",
   "id": "a40ea5d9",
   "metadata": {
    "papermill": {
     "duration": 0.013375,
     "end_time": "2025-04-14T14:11:52.765269",
     "exception": false,
     "start_time": "2025-04-14T14:11:52.751894",
     "status": "completed"
    },
    "tags": []
   },
   "source": [
    "## Step 5: Looking for trends\n",
    "\n",
    "Find out the differences between occasional and annual users, with simple visualizations.\n",
    "\n",
    "**Calculates and Visualize:**\n",
    "\n",
    "* Average ride length by user\n",
    "* Average ride length by user and day\n",
    "* Number of Rides by User and Day\n",
    "* Average Ride Length by User and Month\n",
    "* Number of Rides by User and Month"
   ]
  },
  {
   "cell_type": "code",
   "execution_count": 28,
   "id": "bc014d2a",
   "metadata": {
    "execution": {
     "iopub.execute_input": "2025-04-14T14:11:52.795377Z",
     "iopub.status.busy": "2025-04-14T14:11:52.793915Z",
     "iopub.status.idle": "2025-04-14T14:11:52.973289Z",
     "shell.execute_reply": "2025-04-14T14:11:52.971675Z"
    },
    "papermill": {
     "duration": 0.196743,
     "end_time": "2025-04-14T14:11:52.975402",
     "exception": false,
     "start_time": "2025-04-14T14:11:52.778659",
     "status": "completed"
    },
    "tags": []
   },
   "outputs": [
    {
     "data": {
      "text/html": [
       "<table class=\"dataframe\">\n",
       "<caption>A tibble: 2 × 2</caption>\n",
       "<thead>\n",
       "\t<tr><th scope=col>member_casual</th><th scope=col>average_ride_length</th></tr>\n",
       "\t<tr><th scope=col>&lt;chr&gt;</th><th scope=col>&lt;dbl&gt;</th></tr>\n",
       "</thead>\n",
       "<tbody>\n",
       "\t<tr><td>casual</td><td>730.1472</td></tr>\n",
       "\t<tr><td>member</td><td>614.1886</td></tr>\n",
       "</tbody>\n",
       "</table>\n"
      ],
      "text/latex": [
       "A tibble: 2 × 2\n",
       "\\begin{tabular}{ll}\n",
       " member\\_casual & average\\_ride\\_length\\\\\n",
       " <chr> & <dbl>\\\\\n",
       "\\hline\n",
       "\t casual & 730.1472\\\\\n",
       "\t member & 614.1886\\\\\n",
       "\\end{tabular}\n"
      ],
      "text/markdown": [
       "\n",
       "A tibble: 2 × 2\n",
       "\n",
       "| member_casual &lt;chr&gt; | average_ride_length &lt;dbl&gt; |\n",
       "|---|---|\n",
       "| casual | 730.1472 |\n",
       "| member | 614.1886 |\n",
       "\n"
      ],
      "text/plain": [
       "  member_casual average_ride_length\n",
       "1 casual        730.1472           \n",
       "2 member        614.1886           "
      ]
     },
     "metadata": {},
     "output_type": "display_data"
    }
   ],
   "source": [
    "# Average ride length by type of user in seconds\n",
    "\n",
    "average_ride_length <- complete_rides_clean %>%\n",
    "  group_by(member_casual) %>%\n",
    "  summarize(average_ride_length = mean(ride_length_secs, na.rm = TRUE))\n",
    "\n",
    "average_ride_length"
   ]
  },
  {
   "cell_type": "code",
   "execution_count": 29,
   "id": "e85993dd",
   "metadata": {
    "execution": {
     "iopub.execute_input": "2025-04-14T14:11:53.006622Z",
     "iopub.status.busy": "2025-04-14T14:11:53.005152Z",
     "iopub.status.idle": "2025-04-14T14:11:53.498956Z",
     "shell.execute_reply": "2025-04-14T14:11:53.496798Z"
    },
    "papermill": {
     "duration": 0.511669,
     "end_time": "2025-04-14T14:11:53.501177",
     "exception": false,
     "start_time": "2025-04-14T14:11:52.989508",
     "status": "completed"
    },
    "tags": []
   },
   "outputs": [
    {
     "data": {
      "image/png": "[encoded data removed]"
     },
     "metadata": {
      "image/png": {
       "height": 420,
       "width": 420
      }
     },
     "output_type": "display_data"
    }
   ],
   "source": [
    "# Plot: \"Average Ride Length by User\"\n",
    "\n",
    "ggplot(average_ride_length, \n",
    "       aes(x = member_casual,\n",
    "           y = average_ride_length,\n",
    "           fill = member_casual)) +\n",
    "  geom_bar(stat = \"identity\") +\n",
    "  labs(title = \"Average Ride Length by User (Annual Overview)\",\n",
    "       x = \"Type of User\",\n",
    "       y = \"Average length (Seconds)\") "
   ]
  },
  {
   "cell_type": "code",
   "execution_count": 30,
   "id": "213fcc49",
   "metadata": {
    "execution": {
     "iopub.execute_input": "2025-04-14T14:11:53.534307Z",
     "iopub.status.busy": "2025-04-14T14:11:53.532798Z",
     "iopub.status.idle": "2025-04-14T14:12:00.137958Z",
     "shell.execute_reply": "2025-04-14T14:12:00.136268Z"
    },
    "papermill": {
     "duration": 6.623971,
     "end_time": "2025-04-14T14:12:00.140201",
     "exception": false,
     "start_time": "2025-04-14T14:11:53.516230",
     "status": "completed"
    },
    "tags": []
   },
   "outputs": [
    {
     "data": {
      "image/png": "[encoded data removed]"
     },
     "metadata": {
      "image/png": {
       "height": 420,
       "width": 420
      }
     },
     "output_type": "display_data"
    }
   ],
   "source": [
    "# Plot: \"Number of Riders per Ridable Type Differentiated by Membership\"\n",
    "\n",
    "ggplot(complete_rides_clean, aes(x = rideable_type, fill = member_casual)) +\n",
    "  geom_bar(position = \"fill\") +\n",
    "  labs(title = \"Number of Riders per Ridable Type Differentiated by Membership\",\n",
    "       x = \"Rideable Type\", y = \"Number of Riders\")"
   ]
  },
  {
   "cell_type": "code",
   "execution_count": 31,
   "id": "fcc2eeb4",
   "metadata": {
    "execution": {
     "iopub.execute_input": "2025-04-14T14:12:00.175125Z",
     "iopub.status.busy": "2025-04-14T14:12:00.173371Z",
     "iopub.status.idle": "2025-04-14T14:12:01.401202Z",
     "shell.execute_reply": "2025-04-14T14:12:01.399568Z"
    },
    "papermill": {
     "duration": 1.247108,
     "end_time": "2025-04-14T14:12:01.403258",
     "exception": false,
     "start_time": "2025-04-14T14:12:00.156150",
     "status": "completed"
    },
    "tags": []
   },
   "outputs": [
    {
     "data": {
      "text/html": [
       "<table class=\"dataframe\">\n",
       "<caption>A tibble: 6 × 3</caption>\n",
       "<thead>\n",
       "\t<tr><th scope=col>member_casual</th><th scope=col>ride_length_secs</th><th scope=col>rideable_type</th></tr>\n",
       "\t<tr><th scope=col>&lt;chr&gt;</th><th scope=col>&lt;dbl&gt;</th><th scope=col>&lt;chr&gt;</th></tr>\n",
       "</thead>\n",
       "<tbody>\n",
       "\t<tr><td>member</td><td>2077.102</td><td>classic_bike    </td></tr>\n",
       "\t<tr><td>casual</td><td>2077.101</td><td>electric_scooter</td></tr>\n",
       "\t<tr><td>casual</td><td>2077.100</td><td>classic_bike    </td></tr>\n",
       "\t<tr><td>casual</td><td>2077.094</td><td>classic_bike    </td></tr>\n",
       "\t<tr><td>casual</td><td>2077.092</td><td>classic_bike    </td></tr>\n",
       "\t<tr><td>casual</td><td>2077.090</td><td>classic_bike    </td></tr>\n",
       "</tbody>\n",
       "</table>\n"
      ],
      "text/latex": [
       "A tibble: 6 × 3\n",
       "\\begin{tabular}{lll}\n",
       " member\\_casual & ride\\_length\\_secs & rideable\\_type\\\\\n",
       " <chr> & <dbl> & <chr>\\\\\n",
       "\\hline\n",
       "\t member & 2077.102 & classic\\_bike    \\\\\n",
       "\t casual & 2077.101 & electric\\_scooter\\\\\n",
       "\t casual & 2077.100 & classic\\_bike    \\\\\n",
       "\t casual & 2077.094 & classic\\_bike    \\\\\n",
       "\t casual & 2077.092 & classic\\_bike    \\\\\n",
       "\t casual & 2077.090 & classic\\_bike    \\\\\n",
       "\\end{tabular}\n"
      ],
      "text/markdown": [
       "\n",
       "A tibble: 6 × 3\n",
       "\n",
       "| member_casual &lt;chr&gt; | ride_length_secs &lt;dbl&gt; | rideable_type &lt;chr&gt; |\n",
       "|---|---|---|\n",
       "| member | 2077.102 | classic_bike     |\n",
       "| casual | 2077.101 | electric_scooter |\n",
       "| casual | 2077.100 | classic_bike     |\n",
       "| casual | 2077.094 | classic_bike     |\n",
       "| casual | 2077.092 | classic_bike     |\n",
       "| casual | 2077.090 | classic_bike     |\n",
       "\n"
      ],
      "text/plain": [
       "  member_casual ride_length_secs rideable_type   \n",
       "1 member        2077.102         classic_bike    \n",
       "2 casual        2077.101         electric_scooter\n",
       "3 casual        2077.100         classic_bike    \n",
       "4 casual        2077.094         classic_bike    \n",
       "5 casual        2077.092         classic_bike    \n",
       "6 casual        2077.090         classic_bike    "
      ]
     },
     "metadata": {},
     "output_type": "display_data"
    }
   ],
   "source": [
    "# Rides of less than 2 hours depending on the type of bicycle and user\n",
    "\n",
    "df_filtered <- complete_rides_clean %>%\n",
    "  filter(ride_length_secs < 7200) %>%\n",
    "  select(member_casual, ride_length_secs, rideable_type)\n",
    "\n",
    "head(df_filtered)"
   ]
  },
  {
   "cell_type": "code",
   "execution_count": 32,
   "id": "2eb30e1c",
   "metadata": {
    "execution": {
     "iopub.execute_input": "2025-04-14T14:12:01.436842Z",
     "iopub.status.busy": "2025-04-14T14:12:01.435481Z",
     "iopub.status.idle": "2025-04-14T14:12:06.415894Z",
     "shell.execute_reply": "2025-04-14T14:12:06.414267Z"
    },
    "papermill": {
     "duration": 5.002932,
     "end_time": "2025-04-14T14:12:06.421679",
     "exception": false,
     "start_time": "2025-04-14T14:12:01.418747",
     "status": "completed"
    },
    "tags": []
   },
   "outputs": [
    {
     "data": {
      "image/png": "[encoded data removed]"
     },
     "metadata": {
      "image/png": {
       "height": 420,
       "width": 420
      }
     },
     "output_type": "display_data"
    }
   ],
   "source": [
    "# Plot: \"Distribution of Rides by Ridable type and Membership (< 2 hours)\"\n",
    "\n",
    "ggplot(df_filtered, aes(x = rideable_type, y = ride_length_secs, fill = member_casual)) +\n",
    "  geom_violin() +\n",
    "  labs(\n",
    "    title = \"Ride Length vs. Rideable Type by Membership (Rides < 2 hours)\",\n",
    "    x = \"Type of Bicycle\",\n",
    "    y = \"Ride Duration (seconds)\",\n",
    "    fill = \"Membership\"\n",
    "  ) +\n",
    "  scale_y_continuous(labels = comma)"
   ]
  },
  {
   "cell_type": "code",
   "execution_count": 33,
   "id": "1ab5df92",
   "metadata": {
    "execution": {
     "iopub.execute_input": "2025-04-14T14:12:06.468954Z",
     "iopub.status.busy": "2025-04-14T14:12:06.466609Z",
     "iopub.status.idle": "2025-04-14T14:12:07.222894Z",
     "shell.execute_reply": "2025-04-14T14:12:07.221320Z"
    },
    "papermill": {
     "duration": 0.778467,
     "end_time": "2025-04-14T14:12:07.224966",
     "exception": false,
     "start_time": "2025-04-14T14:12:06.446499",
     "status": "completed"
    },
    "tags": []
   },
   "outputs": [
    {
     "name": "stderr",
     "output_type": "stream",
     "text": [
      "\u001b[1m\u001b[22m`summarise()` has grouped output by 'member_casual'. You can override using the\n",
      "`.groups` argument.\n"
     ]
    },
    {
     "data": {
      "text/html": [
       "<table class=\"dataframe\">\n",
       "<caption>A tibble: 14 × 3</caption>\n",
       "<thead>\n",
       "\t<tr><th scope=col>member_casual</th><th scope=col>day_of_week</th><th scope=col>average_ride_day</th></tr>\n",
       "\t<tr><th scope=col>&lt;chr&gt;</th><th scope=col>&lt;dbl&gt;</th><th scope=col>&lt;dbl&gt;</th></tr>\n",
       "</thead>\n",
       "<tbody>\n",
       "\t<tr><td>casual</td><td>1</td><td>788.7539</td></tr>\n",
       "\t<tr><td>casual</td><td>2</td><td>699.1965</td></tr>\n",
       "\t<tr><td>casual</td><td>3</td><td>674.0895</td></tr>\n",
       "\t<tr><td>casual</td><td>4</td><td>686.5278</td></tr>\n",
       "\t<tr><td>casual</td><td>5</td><td>683.9549</td></tr>\n",
       "\t<tr><td>casual</td><td>6</td><td>720.8854</td></tr>\n",
       "\t<tr><td>casual</td><td>7</td><td>796.1347</td></tr>\n",
       "\t<tr><td>member</td><td>1</td><td>647.1126</td></tr>\n",
       "\t<tr><td>member</td><td>2</td><td>593.1593</td></tr>\n",
       "\t<tr><td>member</td><td>3</td><td>600.5453</td></tr>\n",
       "\t<tr><td>member</td><td>4</td><td>610.7675</td></tr>\n",
       "\t<tr><td>member</td><td>5</td><td>604.0647</td></tr>\n",
       "\t<tr><td>member</td><td>6</td><td>603.0709</td></tr>\n",
       "\t<tr><td>member</td><td>7</td><td>654.2579</td></tr>\n",
       "</tbody>\n",
       "</table>\n"
      ],
      "text/latex": [
       "A tibble: 14 × 3\n",
       "\\begin{tabular}{lll}\n",
       " member\\_casual & day\\_of\\_week & average\\_ride\\_day\\\\\n",
       " <chr> & <dbl> & <dbl>\\\\\n",
       "\\hline\n",
       "\t casual & 1 & 788.7539\\\\\n",
       "\t casual & 2 & 699.1965\\\\\n",
       "\t casual & 3 & 674.0895\\\\\n",
       "\t casual & 4 & 686.5278\\\\\n",
       "\t casual & 5 & 683.9549\\\\\n",
       "\t casual & 6 & 720.8854\\\\\n",
       "\t casual & 7 & 796.1347\\\\\n",
       "\t member & 1 & 647.1126\\\\\n",
       "\t member & 2 & 593.1593\\\\\n",
       "\t member & 3 & 600.5453\\\\\n",
       "\t member & 4 & 610.7675\\\\\n",
       "\t member & 5 & 604.0647\\\\\n",
       "\t member & 6 & 603.0709\\\\\n",
       "\t member & 7 & 654.2579\\\\\n",
       "\\end{tabular}\n"
      ],
      "text/markdown": [
       "\n",
       "A tibble: 14 × 3\n",
       "\n",
       "| member_casual &lt;chr&gt; | day_of_week &lt;dbl&gt; | average_ride_day &lt;dbl&gt; |\n",
       "|---|---|---|\n",
       "| casual | 1 | 788.7539 |\n",
       "| casual | 2 | 699.1965 |\n",
       "| casual | 3 | 674.0895 |\n",
       "| casual | 4 | 686.5278 |\n",
       "| casual | 5 | 683.9549 |\n",
       "| casual | 6 | 720.8854 |\n",
       "| casual | 7 | 796.1347 |\n",
       "| member | 1 | 647.1126 |\n",
       "| member | 2 | 593.1593 |\n",
       "| member | 3 | 600.5453 |\n",
       "| member | 4 | 610.7675 |\n",
       "| member | 5 | 604.0647 |\n",
       "| member | 6 | 603.0709 |\n",
       "| member | 7 | 654.2579 |\n",
       "\n"
      ],
      "text/plain": [
       "   member_casual day_of_week average_ride_day\n",
       "1  casual        1           788.7539        \n",
       "2  casual        2           699.1965        \n",
       "3  casual        3           674.0895        \n",
       "4  casual        4           686.5278        \n",
       "5  casual        5           683.9549        \n",
       "6  casual        6           720.8854        \n",
       "7  casual        7           796.1347        \n",
       "8  member        1           647.1126        \n",
       "9  member        2           593.1593        \n",
       "10 member        3           600.5453        \n",
       "11 member        4           610.7675        \n",
       "12 member        5           604.0647        \n",
       "13 member        6           603.0709        \n",
       "14 member        7           654.2579        "
      ]
     },
     "metadata": {},
     "output_type": "display_data"
    }
   ],
   "source": [
    "# Average ride length for user by day of week \n",
    "# 1 = Sunday, 7 = Saturday\n",
    "\n",
    "average_ride_day <- complete_rides_clean %>%\n",
    "  group_by(member_casual, day_of_week) %>%\n",
    "  summarize(average_ride_day = mean(ride_length_secs, na.rm = TRUE)) %>%\n",
    "  ungroup()\n",
    "\n",
    "average_ride_day"
   ]
  },
  {
   "cell_type": "code",
   "execution_count": 34,
   "id": "57a60504",
   "metadata": {
    "execution": {
     "iopub.execute_input": "2025-04-14T14:12:07.264078Z",
     "iopub.status.busy": "2025-04-14T14:12:07.262598Z",
     "iopub.status.idle": "2025-04-14T14:12:07.536727Z",
     "shell.execute_reply": "2025-04-14T14:12:07.534974Z"
    },
    "papermill": {
     "duration": 0.295966,
     "end_time": "2025-04-14T14:12:07.538952",
     "exception": false,
     "start_time": "2025-04-14T14:12:07.242986",
     "status": "completed"
    },
    "tags": []
   },
   "outputs": [
    {
     "data": {
      "image/png": "[encoded data removed]"
     },
     "metadata": {
      "image/png": {
       "height": 420,
       "width": 420
      }
     },
     "output_type": "display_data"
    }
   ],
   "source": [
    "# Plot: \"Average Ride Length by User and Day\"\n",
    "\n",
    "ggplot(average_ride_day, \n",
    "       aes(x = factor(day_of_week),\n",
    "           y = average_ride_day,\n",
    "           fill = member_casual)) +\n",
    "  geom_bar(stat = \"identity\",position = \"dodge\") + \n",
    "  scale_x_discrete(labels = c(\"1\" = \"Dom\", \"2\" = \"Lun\",\n",
    "                              \"3\" = \"Mar\", \"4\" = \"Mié\",\n",
    "                              \"5\" = \"Jue\", \"6\" = \"Vie\", \"7\" = \"Sáb\")) +\n",
    "  labs(title = \"Average Ride Length by User and Day (Annual Overview)\",\n",
    "       x = \"Day of the Week\",\n",
    "       y = \"Average length (Seconds)\")"
   ]
  },
  {
   "cell_type": "code",
   "execution_count": 35,
   "id": "2612dcdf",
   "metadata": {
    "execution": {
     "iopub.execute_input": "2025-04-14T14:12:07.581236Z",
     "iopub.status.busy": "2025-04-14T14:12:07.579722Z",
     "iopub.status.idle": "2025-04-14T14:12:07.880258Z",
     "shell.execute_reply": "2025-04-14T14:12:07.878615Z"
    },
    "papermill": {
     "duration": 0.323162,
     "end_time": "2025-04-14T14:12:07.882353",
     "exception": false,
     "start_time": "2025-04-14T14:12:07.559191",
     "status": "completed"
    },
    "tags": []
   },
   "outputs": [
    {
     "data": {
      "text/html": [
       "<table class=\"dataframe\">\n",
       "<caption>A tibble: 14 × 3</caption>\n",
       "<thead>\n",
       "\t<tr><th scope=col>member_casual</th><th scope=col>day_of_week</th><th scope=col>total_rides</th></tr>\n",
       "\t<tr><th scope=col>&lt;chr&gt;</th><th scope=col>&lt;dbl&gt;</th><th scope=col>&lt;int&gt;</th></tr>\n",
       "</thead>\n",
       "<tbody>\n",
       "\t<tr><td>casual</td><td>1</td><td>365264</td></tr>\n",
       "\t<tr><td>casual</td><td>2</td><td>248522</td></tr>\n",
       "\t<tr><td>casual</td><td>3</td><td>227546</td></tr>\n",
       "\t<tr><td>casual</td><td>4</td><td>265764</td></tr>\n",
       "\t<tr><td>casual</td><td>5</td><td>260717</td></tr>\n",
       "\t<tr><td>casual</td><td>6</td><td>314269</td></tr>\n",
       "\t<tr><td>casual</td><td>7</td><td>443942</td></tr>\n",
       "\t<tr><td>member</td><td>1</td><td>412676</td></tr>\n",
       "\t<tr><td>member</td><td>2</td><td>522939</td></tr>\n",
       "\t<tr><td>member</td><td>3</td><td>557816</td></tr>\n",
       "\t<tr><td>member</td><td>4</td><td>594254</td></tr>\n",
       "\t<tr><td>member</td><td>5</td><td>555870</td></tr>\n",
       "\t<tr><td>member</td><td>6</td><td>525697</td></tr>\n",
       "\t<tr><td>member</td><td>7</td><td>480676</td></tr>\n",
       "</tbody>\n",
       "</table>\n"
      ],
      "text/latex": [
       "A tibble: 14 × 3\n",
       "\\begin{tabular}{lll}\n",
       " member\\_casual & day\\_of\\_week & total\\_rides\\\\\n",
       " <chr> & <dbl> & <int>\\\\\n",
       "\\hline\n",
       "\t casual & 1 & 365264\\\\\n",
       "\t casual & 2 & 248522\\\\\n",
       "\t casual & 3 & 227546\\\\\n",
       "\t casual & 4 & 265764\\\\\n",
       "\t casual & 5 & 260717\\\\\n",
       "\t casual & 6 & 314269\\\\\n",
       "\t casual & 7 & 443942\\\\\n",
       "\t member & 1 & 412676\\\\\n",
       "\t member & 2 & 522939\\\\\n",
       "\t member & 3 & 557816\\\\\n",
       "\t member & 4 & 594254\\\\\n",
       "\t member & 5 & 555870\\\\\n",
       "\t member & 6 & 525697\\\\\n",
       "\t member & 7 & 480676\\\\\n",
       "\\end{tabular}\n"
      ],
      "text/markdown": [
       "\n",
       "A tibble: 14 × 3\n",
       "\n",
       "| member_casual &lt;chr&gt; | day_of_week &lt;dbl&gt; | total_rides &lt;int&gt; |\n",
       "|---|---|---|\n",
       "| casual | 1 | 365264 |\n",
       "| casual | 2 | 248522 |\n",
       "| casual | 3 | 227546 |\n",
       "| casual | 4 | 265764 |\n",
       "| casual | 5 | 260717 |\n",
       "| casual | 6 | 314269 |\n",
       "| casual | 7 | 443942 |\n",
       "| member | 1 | 412676 |\n",
       "| member | 2 | 522939 |\n",
       "| member | 3 | 557816 |\n",
       "| member | 4 | 594254 |\n",
       "| member | 5 | 555870 |\n",
       "| member | 6 | 525697 |\n",
       "| member | 7 | 480676 |\n",
       "\n"
      ],
      "text/plain": [
       "   member_casual day_of_week total_rides\n",
       "1  casual        1           365264     \n",
       "2  casual        2           248522     \n",
       "3  casual        3           227546     \n",
       "4  casual        4           265764     \n",
       "5  casual        5           260717     \n",
       "6  casual        6           314269     \n",
       "7  casual        7           443942     \n",
       "8  member        1           412676     \n",
       "9  member        2           522939     \n",
       "10 member        3           557816     \n",
       "11 member        4           594254     \n",
       "12 member        5           555870     \n",
       "13 member        6           525697     \n",
       "14 member        7           480676     "
      ]
     },
     "metadata": {},
     "output_type": "display_data"
    }
   ],
   "source": [
    "# Count the number of rides for user by day of week \n",
    "# 1 = Sunday, 7 = Saturday\n",
    "\n",
    "ride_count_by_day <- complete_rides %>%\n",
    "  group_by(member_casual, day_of_week) %>%\n",
    "  summarize(total_rides = n(), .groups = \"drop\")\n",
    "\n",
    "ride_count_by_day"
   ]
  },
  {
   "cell_type": "code",
   "execution_count": 36,
   "id": "03f21588",
   "metadata": {
    "execution": {
     "iopub.execute_input": "2025-04-14T14:12:07.923720Z",
     "iopub.status.busy": "2025-04-14T14:12:07.922177Z",
     "iopub.status.idle": "2025-04-14T14:12:08.195287Z",
     "shell.execute_reply": "2025-04-14T14:12:08.193543Z"
    },
    "papermill": {
     "duration": 0.295861,
     "end_time": "2025-04-14T14:12:08.197400",
     "exception": false,
     "start_time": "2025-04-14T14:12:07.901539",
     "status": "completed"
    },
    "tags": []
   },
   "outputs": [
    {
     "data": {
      "image/png": "[encoded data removed]"
     },
     "metadata": {
      "image/png": {
       "height": 420,
       "width": 420
      }
     },
     "output_type": "display_data"
    }
   ],
   "source": [
    "# Plot: \"Number of Rides by User and Day \"\n",
    "\n",
    "ggplot(ride_count_by_day, \n",
    "       aes(x = factor(day_of_week),\n",
    "           y = total_rides,\n",
    "           fill = member_casual)) +\n",
    "  geom_bar(stat = \"identity\",position = \"dodge\") + \n",
    "  scale_x_discrete(labels = c(\"1\" = \"Dom\", \"2\" = \"Lun\",\n",
    "                              \"3\" = \"Mar\", \"4\" = \"Mié\",\n",
    "                              \"5\" = \"Jue\", \"6\" = \"Vie\", \"7\" = \"Sáb\")) +\n",
    "  scale_y_continuous(labels = comma) +\n",
    "  labs(title = \"Number of Rides by User and Day (Annual Overview)\",\n",
    "       x = \"Day of the Week\",\n",
    "       y = \"Total Rides\")"
   ]
  },
  {
   "cell_type": "code",
   "execution_count": 37,
   "id": "b8970f5e",
   "metadata": {
    "execution": {
     "iopub.execute_input": "2025-04-14T14:12:08.239541Z",
     "iopub.status.busy": "2025-04-14T14:12:08.238095Z",
     "iopub.status.idle": "2025-04-14T14:12:16.809934Z",
     "shell.execute_reply": "2025-04-14T14:12:16.807324Z"
    },
    "papermill": {
     "duration": 8.59599,
     "end_time": "2025-04-14T14:12:16.813214",
     "exception": false,
     "start_time": "2025-04-14T14:12:08.217224",
     "status": "completed"
    },
    "tags": []
   },
   "outputs": [
    {
     "name": "stdout",
     "output_type": "stream",
     "text": [
      "\u001b[90m# A tibble: 24 × 3\u001b[39m\n",
      "   member_casual month avg_ride_length\n",
      "   \u001b[3m\u001b[90m<chr>\u001b[39m\u001b[23m         \u001b[3m\u001b[90m<ord>\u001b[39m\u001b[23m           \u001b[3m\u001b[90m<dbl>\u001b[39m\u001b[23m\n",
      "\u001b[90m 1\u001b[39m casual        Jan              512.\n",
      "\u001b[90m 2\u001b[39m casual        Feb              530.\n",
      "\u001b[90m 3\u001b[39m casual        Mar              695.\n",
      "\u001b[90m 4\u001b[39m casual        Apr              722.\n",
      "\u001b[90m 5\u001b[39m casual        May              770.\n",
      "\u001b[90m 6\u001b[39m casual        Jun              778.\n",
      "\u001b[90m 7\u001b[39m casual        Jul              781.\n",
      "\u001b[90m 8\u001b[39m casual        Aug              767.\n",
      "\u001b[90m 9\u001b[39m casual        Sep              698.\n",
      "\u001b[90m10\u001b[39m casual        Oct              703.\n",
      "\u001b[90m11\u001b[39m casual        Nov              623.\n",
      "\u001b[90m12\u001b[39m casual        Dec              577.\n",
      "\u001b[90m13\u001b[39m member        Jan              502.\n",
      "\u001b[90m14\u001b[39m member        Feb              514.\n",
      "\u001b[90m15\u001b[39m member        Mar              574.\n",
      "\u001b[90m16\u001b[39m member        Apr              597.\n",
      "\u001b[90m17\u001b[39m member        May              645.\n",
      "\u001b[90m18\u001b[39m member        Jun              666.\n",
      "\u001b[90m19\u001b[39m member        Jul              663.\n",
      "\u001b[90m20\u001b[39m member        Aug              650.\n",
      "\u001b[90m21\u001b[39m member        Sep              616.\n",
      "\u001b[90m22\u001b[39m member        Oct              602.\n",
      "\u001b[90m23\u001b[39m member        Nov              559.\n",
      "\u001b[90m24\u001b[39m member        Dec              532.\n"
     ]
    }
   ],
   "source": [
    "# Average ride length by user and month \n",
    "\n",
    "average_ride_by_month <- complete_rides_clean %>%\n",
    "  mutate(month = month(started_at, label = TRUE)) %>% \n",
    "  group_by(member_casual, month) %>%\n",
    "  summarize(avg_ride_length = mean(ride_length_secs, na.rm = TRUE), .groups = \"drop\")\n",
    "\n",
    "print(average_ride_by_month, n = 24) "
   ]
  },
  {
   "cell_type": "code",
   "execution_count": 38,
   "id": "b90dfd40",
   "metadata": {
    "execution": {
     "iopub.execute_input": "2025-04-14T14:12:16.861483Z",
     "iopub.status.busy": "2025-04-14T14:12:16.859764Z",
     "iopub.status.idle": "2025-04-14T14:12:17.230089Z",
     "shell.execute_reply": "2025-04-14T14:12:17.228068Z"
    },
    "papermill": {
     "duration": 0.395172,
     "end_time": "2025-04-14T14:12:17.232951",
     "exception": false,
     "start_time": "2025-04-14T14:12:16.837779",
     "status": "completed"
    },
    "tags": []
   },
   "outputs": [
    {
     "data": {
      "image/png": "[encoded data removed]"
     },
     "metadata": {
      "image/png": {
       "height": 420,
       "width": 420
      }
     },
     "output_type": "display_data"
    }
   ],
   "source": [
    "# Plot: \"Average Ride Length by User and Month\"\n",
    "\n",
    "ggplot(average_ride_by_month, \n",
    "       aes(x = month,\n",
    "           y = avg_ride_length,\n",
    "           group = member_casual,\n",
    "           color = member_casual)) +\n",
    "  geom_line(linewidth = 1) +\n",
    "  geom_point(size = 2) +\n",
    "  scale_y_continuous(labels = comma) +\n",
    "  labs(title = \"Average Ride Length by User and Month\",\n",
    "       x = \"Month\",\n",
    "       y = \"Average length (Seconds)\")\n"
   ]
  },
  {
   "cell_type": "code",
   "execution_count": 39,
   "id": "f228d056",
   "metadata": {
    "execution": {
     "iopub.execute_input": "2025-04-14T14:12:17.286303Z",
     "iopub.status.busy": "2025-04-14T14:12:17.284730Z",
     "iopub.status.idle": "2025-04-14T14:12:20.260576Z",
     "shell.execute_reply": "2025-04-14T14:12:20.257342Z"
    },
    "papermill": {
     "duration": 3.00405,
     "end_time": "2025-04-14T14:12:20.265295",
     "exception": false,
     "start_time": "2025-04-14T14:12:17.261245",
     "status": "completed"
    },
    "tags": []
   },
   "outputs": [
    {
     "data": {
      "text/html": [
       "<table class=\"dataframe\">\n",
       "<caption>A tibble: 24 × 3</caption>\n",
       "<thead>\n",
       "\t<tr><th scope=col>member_casual</th><th scope=col>month</th><th scope=col>total_rides</th></tr>\n",
       "\t<tr><th scope=col>&lt;chr&gt;</th><th scope=col>&lt;chr&gt;</th><th scope=col>&lt;int&gt;</th></tr>\n",
       "</thead>\n",
       "<tbody>\n",
       "\t<tr><td>casual</td><td>01</td><td> 23169</td></tr>\n",
       "\t<tr><td>casual</td><td>02</td><td> 26510</td></tr>\n",
       "\t<tr><td>casual</td><td>03</td><td> 71987</td></tr>\n",
       "\t<tr><td>casual</td><td>04</td><td>111784</td></tr>\n",
       "\t<tr><td>casual</td><td>05</td><td>191457</td></tr>\n",
       "\t<tr><td>casual</td><td>06</td><td>253645</td></tr>\n",
       "\t<tr><td>casual</td><td>07</td><td>266721</td></tr>\n",
       "\t<tr><td>casual</td><td>08</td><td>270779</td></tr>\n",
       "\t<tr><td>casual</td><td>09</td><td>306346</td></tr>\n",
       "\t<tr><td>casual</td><td>10</td><td>189310</td></tr>\n",
       "\t<tr><td>casual</td><td>11</td><td> 85425</td></tr>\n",
       "\t<tr><td>casual</td><td>12</td><td> 36221</td></tr>\n",
       "\t<tr><td>member</td><td>01</td><td>112027</td></tr>\n",
       "\t<tr><td>member</td><td>02</td><td>121513</td></tr>\n",
       "\t<tr><td>member</td><td>03</td><td>211948</td></tr>\n",
       "\t<tr><td>member</td><td>04</td><td>272278</td></tr>\n",
       "\t<tr><td>member</td><td>05</td><td>360806</td></tr>\n",
       "\t<tr><td>member</td><td>06</td><td>389897</td></tr>\n",
       "\t<tr><td>member</td><td>07</td><td>408148</td></tr>\n",
       "\t<tr><td>member</td><td>08</td><td>417887</td></tr>\n",
       "\t<tr><td>member</td><td>09</td><td>457525</td></tr>\n",
       "\t<tr><td>member</td><td>10</td><td>386269</td></tr>\n",
       "\t<tr><td>member</td><td>11</td><td>235728</td></tr>\n",
       "\t<tr><td>member</td><td>12</td><td>136585</td></tr>\n",
       "</tbody>\n",
       "</table>\n"
      ],
      "text/latex": [
       "A tibble: 24 × 3\n",
       "\\begin{tabular}{lll}\n",
       " member\\_casual & month & total\\_rides\\\\\n",
       " <chr> & <chr> & <int>\\\\\n",
       "\\hline\n",
       "\t casual & 01 &  23169\\\\\n",
       "\t casual & 02 &  26510\\\\\n",
       "\t casual & 03 &  71987\\\\\n",
       "\t casual & 04 & 111784\\\\\n",
       "\t casual & 05 & 191457\\\\\n",
       "\t casual & 06 & 253645\\\\\n",
       "\t casual & 07 & 266721\\\\\n",
       "\t casual & 08 & 270779\\\\\n",
       "\t casual & 09 & 306346\\\\\n",
       "\t casual & 10 & 189310\\\\\n",
       "\t casual & 11 &  85425\\\\\n",
       "\t casual & 12 &  36221\\\\\n",
       "\t member & 01 & 112027\\\\\n",
       "\t member & 02 & 121513\\\\\n",
       "\t member & 03 & 211948\\\\\n",
       "\t member & 04 & 272278\\\\\n",
       "\t member & 05 & 360806\\\\\n",
       "\t member & 06 & 389897\\\\\n",
       "\t member & 07 & 408148\\\\\n",
       "\t member & 08 & 417887\\\\\n",
       "\t member & 09 & 457525\\\\\n",
       "\t member & 10 & 386269\\\\\n",
       "\t member & 11 & 235728\\\\\n",
       "\t member & 12 & 136585\\\\\n",
       "\\end{tabular}\n"
      ],
      "text/markdown": [
       "\n",
       "A tibble: 24 × 3\n",
       "\n",
       "| member_casual &lt;chr&gt; | month &lt;chr&gt; | total_rides &lt;int&gt; |\n",
       "|---|---|---|\n",
       "| casual | 01 |  23169 |\n",
       "| casual | 02 |  26510 |\n",
       "| casual | 03 |  71987 |\n",
       "| casual | 04 | 111784 |\n",
       "| casual | 05 | 191457 |\n",
       "| casual | 06 | 253645 |\n",
       "| casual | 07 | 266721 |\n",
       "| casual | 08 | 270779 |\n",
       "| casual | 09 | 306346 |\n",
       "| casual | 10 | 189310 |\n",
       "| casual | 11 |  85425 |\n",
       "| casual | 12 |  36221 |\n",
       "| member | 01 | 112027 |\n",
       "| member | 02 | 121513 |\n",
       "| member | 03 | 211948 |\n",
       "| member | 04 | 272278 |\n",
       "| member | 05 | 360806 |\n",
       "| member | 06 | 389897 |\n",
       "| member | 07 | 408148 |\n",
       "| member | 08 | 417887 |\n",
       "| member | 09 | 457525 |\n",
       "| member | 10 | 386269 |\n",
       "| member | 11 | 235728 |\n",
       "| member | 12 | 136585 |\n",
       "\n"
      ],
      "text/plain": [
       "   member_casual month total_rides\n",
       "1  casual        01     23169     \n",
       "2  casual        02     26510     \n",
       "3  casual        03     71987     \n",
       "4  casual        04    111784     \n",
       "5  casual        05    191457     \n",
       "6  casual        06    253645     \n",
       "7  casual        07    266721     \n",
       "8  casual        08    270779     \n",
       "9  casual        09    306346     \n",
       "10 casual        10    189310     \n",
       "11 casual        11     85425     \n",
       "12 casual        12     36221     \n",
       "13 member        01    112027     \n",
       "14 member        02    121513     \n",
       "15 member        03    211948     \n",
       "16 member        04    272278     \n",
       "17 member        05    360806     \n",
       "18 member        06    389897     \n",
       "19 member        07    408148     \n",
       "20 member        08    417887     \n",
       "21 member        09    457525     \n",
       "22 member        10    386269     \n",
       "23 member        11    235728     \n",
       "24 member        12    136585     "
      ]
     },
     "metadata": {},
     "output_type": "display_data"
    }
   ],
   "source": [
    "# Count the number of rides for user by month\n",
    "\n",
    "ride_count_by_month <- complete_rides_clean %>%\n",
    "  mutate(month = format(as.Date(started_at), \"%m\")) %>% \n",
    "  group_by(member_casual, month) %>%\n",
    "  summarize(total_rides = n(), .groups = \"drop\")\n",
    "\n",
    "ride_count_by_month"
   ]
  },
  {
   "cell_type": "code",
   "execution_count": 40,
   "id": "ce8dedb2",
   "metadata": {
    "execution": {
     "iopub.execute_input": "2025-04-14T14:12:20.320023Z",
     "iopub.status.busy": "2025-04-14T14:12:20.317633Z",
     "iopub.status.idle": "2025-04-14T14:12:20.816088Z",
     "shell.execute_reply": "2025-04-14T14:12:20.813361Z"
    },
    "papermill": {
     "duration": 0.527445,
     "end_time": "2025-04-14T14:12:20.820123",
     "exception": false,
     "start_time": "2025-04-14T14:12:20.292678",
     "status": "completed"
    },
    "tags": []
   },
   "outputs": [
    {
     "data": {
      "image/png": "[encoded data removed]"
     },
     "metadata": {
      "image/png": {
       "height": 420,
       "width": 420
      }
     },
     "output_type": "display_data"
    }
   ],
   "source": [
    "# Plot: \"Number of Rides by User and Month\"\n",
    "\n",
    "ggplot(ride_count_by_month, \n",
    "       aes(x = factor(month),\n",
    "           y = total_rides,\n",
    "           fill = member_casual)) +\n",
    "  geom_bar(stat = \"identity\", position = \"dodge\") + \n",
    "  scale_x_discrete(labels = c(\"03\" = \"Mar\", \"04\" = \"Abr\", \n",
    "                              \"05\" = \"May\", \"06\" = \"Jun\", \"07\" = \"Jul\", \n",
    "                              \"08\" = \"Ago\", \"09\" = \"Sep\", \"10\" = \"Oct\", \n",
    "                              \"11\" = \"Nov\", \"12\" = \"Dic\")) +\n",
    "  scale_y_continuous(labels = comma) +\n",
    "  labs(title = \"Number of Rides by User and Month\",\n",
    "       x = \"Month\",\n",
    "       y = \"Total Rides\")"
   ]
  },
  {
   "cell_type": "markdown",
   "id": "efeb5550",
   "metadata": {
    "papermill": {
     "duration": 0.031853,
     "end_time": "2025-04-14T14:12:20.885281",
     "exception": false,
     "start_time": "2025-04-14T14:12:20.853428",
     "status": "completed"
    },
    "tags": []
   },
   "source": [
    "## **Analysis**\n",
    "\n",
    "The main difference between the two types of users lies in the average trip duration; members take significantly shorter trips than occasional users (730.1 seconds for \"casual\" users and 614.1 seconds for members, ~12 and ~10 minutes, respectively).\n",
    "\n",
    "When filtering out trips lasting less than two hours, it is observed that occasional users tend to take longer trips, while member users take shorter trips. Vehicle type also plays a role: scooters are used for short trips, while electric and classic bicycles allow for longer trips.\n",
    "\n",
    "On the other hand, when analyzing the average and total number of trips by day of the week, a difference in usage patterns is evident. Occasional users prefer to use the service more on weekends, especially Saturdays, likely for leisure purposes. Meanwhile, members use it more frequently during weekdays, especially on Wednesdays, but also on Tuesdays and Thursdays, suggesting use associated with a daily routine.\n",
    "\n",
    "Likewise, between the months of May and October, there is a significant increase in the number of trips for both types of users, coinciding with the summer and fall seasons in the Northern Hemisphere.\n",
    "\n",
    "It is worth noting that both types of users use all three types of vehicles available; however, there are differences in their preferences. Occasional users have a greater preference for scooters, while member users tend to prefer classic and electric bicycles.\n"
   ]
  },
  {
   "cell_type": "markdown",
   "id": "65b9e03e",
   "metadata": {
    "papermill": {
     "duration": 0.022418,
     "end_time": "2025-04-14T14:12:20.933556",
     "exception": false,
     "start_time": "2025-04-14T14:12:20.911138",
     "status": "completed"
    },
    "tags": []
   },
   "source": [
    "## Step 6: Act\n",
    "\n",
    "**How ​​do annual members and casual cyclists differ in their use of Cyclistic bikes?**\n",
    "\n",
    "Based on the analysis conducted, the main difference lies in the average trip duration: annual members tend to make shorter trips than casual cyclists. This suggests that members use the service as part of a daily routine, such as commuting to work or school, while casual cyclists make longer trips, especially on weekends, suggesting recreational use.\n",
    "\n",
    "Furthermore, a difference is observed in vehicle preference: casual users more frequently use scooters, while members prefer classic and electric bicycles.\n",
    "\n",
    "---\n",
    "\n",
    "**Why would casual cyclists purchase annual Cyclistic memberships?**\n",
    "\n",
    "To answer this question accurately, it will be necessary to conduct surveys targeting casual cyclists to determine their level of awareness about the membership program and their willingness to purchase it. Likewise, it would be useful to survey current members to understand their motivations for acquiring a membership. This information would allow for more effective strategies to attract new members.\n",
    "\n",
    "---\n",
    "\n",
    "**How ​​can Cyclistic use digital media to influence casual cyclists to become members?**\n",
    "\n",
    "According to available data, casual cyclists tend to use the service on weekends and prefer scooters, suggesting a recreational use. Furthermore, it is recommended to run targeted campaigns on weekends, especially Saturdays, when casual users are most likely to use the service. Advertisements or promotions could also be placed directly on the scooters, leveraging the physical channel of contact with these users to encourage them to upgrade to a membership."
   ]
  }
 ],
 "metadata": {
  "kaggle": {
   "accelerator": "none",
   "dataSources": [],
   "dockerImageVersionId": 30749,
   "isGpuEnabled": false,
   "isInternetEnabled": true,
   "language": "r",
   "sourceType": "notebook"
  },
  "kernelspec": {
   "display_name": "R",
   "language": "R",
   "name": "ir"
  },
  "language_info": {
   "codemirror_mode": "r",
   "file_extension": ".r",
   "mimetype": "text/x-r-source",
   "name": "R",
   "pygments_lexer": "r",
   "version": "4.4.0"
  },
  "papermill": {
   "default_parameters": {},
   "duration": 372.009507,
   "end_time": "2025-04-14T14:12:22.583113",
   "environment_variables": {},
   "exception": null,
   "input_path": "__notebook__.ipynb",
   "output_path": "__notebook__.ipynb",
   "parameters": {},
   "start_time": "2025-04-14T14:06:10.573606",
   "version": "2.6.0"
  }
 },
 "nbformat": 4,
 "nbformat_minor": 5
}
